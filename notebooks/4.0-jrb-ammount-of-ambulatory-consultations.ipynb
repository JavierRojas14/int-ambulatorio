{
 "cells": [
  {
   "cell_type": "code",
   "execution_count": null,
   "metadata": {},
   "outputs": [],
   "source": [
    "import sys\n",
    "import os\n",
    "\n",
    "project_root = os.path.abspath('..')\n",
    "if project_root not in sys.path:\n",
    "    sys.path.append(project_root)\n",
    " \n",
    "%load_ext autoreload\n",
    "%autoreload 2"
   ]
  },
  {
   "cell_type": "code",
   "execution_count": null,
   "metadata": {},
   "outputs": [],
   "source": [
    "import pandas as pd\n",
    "import numpy as np\n",
    "\n",
    "import matplotlib.pyplot as plt\n",
    "import seaborn as sns\n",
    "\n",
    "from src.features.build_features import obtener_distribucion_consultas\n",
    "\n",
    "sns.set_theme(palette='pastel')\n",
    "plt.rcParams['figure.figsize'] = (12, 6)\n",
    "pd.set_option('display.max_columns', None)"
   ]
  },
  {
   "cell_type": "code",
   "execution_count": null,
   "metadata": {},
   "outputs": [],
   "source": [
    "# Carga la base de TrackCare\n",
    "df_track = pd.read_csv(\"../data/processed/trackcare_procesada.csv\")\n",
    "\n",
    "# Deja solamente las consultas atendidas\n",
    "df_track_atendidas = df_track.query(\"estadocita == 'Atendido'\")"
   ]
  },
  {
   "cell_type": "code",
   "execution_count": null,
   "metadata": {},
   "outputs": [],
   "source": [
    "# Obtiene resumen de consultas por anio\n",
    "agrupacion_anual = [\"ano\", \"especialidad\"]\n",
    "distribucion_consultas_por_anio, consultas_por_paciente_por_anio = obtener_distribucion_consultas(\n",
    "    df_track_atendidas, agrupacion_anual\n",
    ")\n",
    "\n",
    "# Obtiene resumen de consultas acumuladas en el periodo\n",
    "agrupacion_acumulada = [\"especialidad\"]\n",
    "distribucion_consultas_acumuladas, consultas_por_paciente_acumuladas = (\n",
    "    obtener_distribucion_consultas(df_track_atendidas, agrupacion_acumulada)\n",
    ")"
   ]
  },
  {
   "cell_type": "code",
   "execution_count": null,
   "metadata": {},
   "outputs": [],
   "source": [
    "CAMBIO_ESPECIALIDADES = {\n",
    "    \"ANESTESIOLOGÍA\": [],\n",
    "    \"CARDIOLOGÍA\": [\"Cardiología\", \"Cardiología Adulto\"],\n",
    "    \"CIRUGÍA CARDIOVASCULAR\": [\n",
    "        \"Cardiocirugía\",\n",
    "        \"Cirugía Adulto\",\n",
    "        \"Cirugía General\",\n",
    "        \"Cirugía Vascular Periférica\",\n",
    "    ],\n",
    "    \"CIRUGÍA DE TÓRAX\": [\"Cirugía Tórax\"],\n",
    "    \"ENFERMEDADES RESPIRATORIAS ADULTO\": [\"Broncopulmonar\", \"Broncopulmonar Adulto\"],\n",
    "    \"ENFERMERÍA\": [],\n",
    "    \"EQUIPO MULTIDISCIPLINARIO\": [],\n",
    "    \"GENÉTICA CLÍNICA\": [],\n",
    "    \"INFECTOLOGÍA\": [\"Infectología Adulto\"],\n",
    "    \"MEDICINA FÍSICA Y REHABILITACIÓN\": [],\n",
    "    \"MEDICINA INTERNA\": [\"Med. Interna\"],\n",
    "    \"NUTRICIÓN\": [\"Nutrición\"],\n",
    "    \"ODONTOLOGÍA\": [],\n",
    "    \"ONCOLOGÍA\": [\"Oncología\"],\n",
    "    \"PALIATIVISTA\": [],\n",
    "    \"PSICOLOGÍA\": [\"Psicología\"],\n",
    "    \"PSIQUIATRÍA ADULTO\": [\"Psiquiatría Adulto\"],\n",
    "    \"QUÍMICA Y FARMACIA\": [],\n",
    "    \"RADIOTERAPEUTA\": [],\n",
    "    \"TRABAJO SOCIAL\": [],\n",
    "}"
   ]
  }
 ],
 "metadata": {
  "language_info": {
   "name": "python"
  }
 },
 "nbformat": 4,
 "nbformat_minor": 2
}
