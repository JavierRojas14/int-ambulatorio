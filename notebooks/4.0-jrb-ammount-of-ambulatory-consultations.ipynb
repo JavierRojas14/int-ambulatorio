{
 "cells": [
  {
   "cell_type": "code",
   "execution_count": null,
   "metadata": {},
   "outputs": [],
   "source": [
    "import sys\n",
    "import os\n",
    "\n",
    "project_root = os.path.abspath('..')\n",
    "if project_root not in sys.path:\n",
    "    sys.path.append(project_root)\n",
    " \n",
    "%load_ext autoreload\n",
    "%autoreload 2"
   ]
  },
  {
   "cell_type": "code",
   "execution_count": null,
   "metadata": {},
   "outputs": [],
   "source": [
    "import pandas as pd\n",
    "import numpy as np\n",
    "\n",
    "import matplotlib.pyplot as plt\n",
    "import seaborn as sns\n",
    "\n",
    "sns.set_theme(palette='pastel')\n",
    "plt.rcParams['figure.figsize'] = (12, 6)\n",
    "pd.set_option('display.max_columns', None)"
   ]
  },
  {
   "cell_type": "code",
   "execution_count": null,
   "metadata": {},
   "outputs": [],
   "source": [
    "# Carga la base de TrackCare\n",
    "df_track = pd.read_csv(\"../data/processed/trackcare_procesada.csv\")\n",
    "\n",
    "# Deja solamente las consultas atendidas\n",
    "df_track_atendidas = df_track.query(\"estadocita == 'Atendido'\")"
   ]
  },
  {
   "cell_type": "code",
   "execution_count": null,
   "metadata": {},
   "outputs": [],
   "source": [
    "def obtener_distribucion_consultas(df, agrupacion):\n",
    "    # Agrupa segun lo especificado por el usuario y separa por pacientes\n",
    "    agrupacion_por_paciente = agrupacion + [\"id_paciente\"]\n",
    "\n",
    "    # Obtiene la cantidad de consultas por paciente\n",
    "    consultas_por_paciente = (\n",
    "        df.groupby(agrupacion_por_paciente).size().reset_index(name=\"n_consultas\")\n",
    "    )\n",
    "\n",
    "    # Obtiene el desempeno de las consultas\n",
    "    distribucion_consultas = consultas_por_paciente.groupby(agrupacion)[\"n_consultas\"].describe()\n",
    "\n",
    "    # Obtiene la cantidad de consultas totales por especialidad\n",
    "    cantidad_consultas = df.groupby(agrupacion).size()\n",
    "    cantidad_consultas.name = \"cantidad_consultas\"\n",
    "\n",
    "    # Agrega la cantidad de consultas por especialidad\n",
    "    distribucion_consultas = distribucion_consultas.join(cantidad_consultas)\n",
    "\n",
    "    return distribucion_consultas, consultas_por_paciente"
   ]
  },
  {
   "cell_type": "code",
   "execution_count": null,
   "metadata": {},
   "outputs": [],
   "source": [
    "# Obtiene resumen de consultas por anio\n",
    "agrupacion_anual = [\"ano\", \"especialidad\"]\n",
    "distribucion_consultas_por_anio, consultas_por_paciente_por_anio = obtener_distribucion_consultas(\n",
    "    df_track_atendidas, agrupacion_anual\n",
    ")\n",
    "\n",
    "# Obtiene resumen de consultas acumuladas en el periodo\n",
    "agrupacion_acumulada = [\"especialidad\"]\n",
    "distribucion_consultas_acumuladas, consultas_por_paciente_acumuladas = (\n",
    "    obtener_distribucion_consultas(df_track_atendidas, agrupacion_acumulada)\n",
    ")"
   ]
  },
  {
   "cell_type": "code",
   "execution_count": null,
   "metadata": {},
   "outputs": [],
   "source": [
    "# Exporta la cantidad de consultas por paciente, eliminando su ID\n",
    "consultas_por_paciente.drop(columns=\"id_paciente\").to_csv(\n",
    "    \"../data/interim/distribucion_consultas.csv\", index=False\n",
    ")"
   ]
  }
 ],
 "metadata": {
  "language_info": {
   "name": "python"
  }
 },
 "nbformat": 4,
 "nbformat_minor": 2
}
