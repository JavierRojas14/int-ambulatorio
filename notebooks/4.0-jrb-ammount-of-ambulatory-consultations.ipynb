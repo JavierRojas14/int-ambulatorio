{
 "cells": [
  {
   "cell_type": "code",
   "execution_count": null,
   "metadata": {},
   "outputs": [],
   "source": [
    "import sys\n",
    "import os\n",
    "\n",
    "project_root = os.path.abspath('..')\n",
    "if project_root not in sys.path:\n",
    "    sys.path.append(project_root)\n",
    " \n",
    "%load_ext autoreload\n",
    "%autoreload 2"
   ]
  },
  {
   "cell_type": "code",
   "execution_count": null,
   "metadata": {},
   "outputs": [],
   "source": [
    "import pandas as pd\n",
    "import numpy as np\n",
    "\n",
    "import matplotlib.pyplot as plt\n",
    "import seaborn as sns\n",
    "\n",
    "from src.features.build_features import obtener_distribucion_consultas\n",
    "\n",
    "sns.set_theme(palette='pastel')\n",
    "plt.rcParams['figure.figsize'] = (12, 6)\n",
    "pd.set_option('display.max_columns', None)"
   ]
  },
  {
   "cell_type": "code",
   "execution_count": null,
   "metadata": {},
   "outputs": [],
   "source": [
    "# Carga la base de TrackCare\n",
    "df_track = pd.read_csv(\"../data/processed/trackcare_procesada.csv\")\n",
    "df_track[\"prestacion\"] = df_track[\"prestacion\"].str.upper().str.strip()\n",
    "\n",
    "# Deja solamente las consultas atendidas\n",
    "df_track_atendidas = df_track.query(\"estadocita == 'Atendido'\")"
   ]
  },
  {
   "cell_type": "code",
   "execution_count": null,
   "metadata": {},
   "outputs": [],
   "source": [
    "# Obtiene resumen de consultas por anio\n",
    "agrupacion_anual = [\"ano\", \"especialidad_agrupada\"]\n",
    "distribucion_consultas_por_anio, consultas_por_paciente_por_anio = obtener_distribucion_consultas(\n",
    "    df_track_atendidas, agrupacion_anual\n",
    ")\n",
    "\n",
    "# Obtiene resumen de consultas acumuladas en el periodo\n",
    "agrupacion_acumulada = [\"especialidad_agrupada\"]\n",
    "distribucion_consultas_acumuladas, consultas_por_paciente_acumuladas = (\n",
    "    obtener_distribucion_consultas(df_track_atendidas, agrupacion_acumulada)\n",
    ")"
   ]
  },
  {
   "cell_type": "code",
   "execution_count": null,
   "metadata": {},
   "outputs": [],
   "source": [
    "# Define las glosas solamente de consultas (filtra procedimientos y miscaleneos)\n",
    "GLOSAS_CONSULTAS = [\"Consulta Repetida\", \"Consulta Nueva\"]\n",
    "consultas_validas = df_track.query(\n",
    "    \"estadocita == 'Atendido' and tipoatencion.isin(@GLOSAS_CONSULTAS)\"\n",
    ")\n",
    "consultas_validas = consultas_validas.query(\"prestacion.str.contains('CONSULTA')\")\n",
    "\n",
    "# Define los profesionales medicos\n",
    "PROFESIONALES_MEDICOS = [\"Médico Cirujano\", \"Médico\", \"Psiquiatra\"]\n",
    "\n",
    "# Filtra por consultas medicas y profesionales medicas\n",
    "consultas_medicas = consultas_validas.query(\"tipoprofesional.isin(@PROFESIONALES_MEDICOS)\")\n",
    "\n",
    "# Obtiene consultas no medicas\n",
    "consultas_no_medicas = consultas_validas.query(\"~tipoprofesional.isin(@PROFESIONALES_MEDICOS)\")"
   ]
  },
  {
   "cell_type": "code",
   "execution_count": null,
   "metadata": {},
   "outputs": [],
   "source": [
    "# Obtiene la cantidad de consultas medicas\n",
    "cantidad_consultas_medicas = consultas_medicas.groupby(\"ano\").size()\n",
    "cantidad_consultas_medicas.name = \"n_consultas_medicas\"\n",
    "\n",
    "# Obtiene la cantidad de consultas no medicas por tipo de profesional\n",
    "cantidad_consultas_no_medicas = (\n",
    "    consultas_no_medicas.groupby([\"ano\", \"tipoprofesional\"])\n",
    "    .size()\n",
    "    .reset_index(1, name=\"n_consultas_no_medicas\")\n",
    ")\n",
    "\n",
    "# Une la cantidad de consultas medicas y no medicas\n",
    "resumen_consultas_medicas_y_no_medicas = cantidad_consultas_no_medicas.join(\n",
    "    cantidad_consultas_medicas\n",
    ")\n",
    "\n",
    "# Obtiene la fraccion de cada no medicas de las medicas\n",
    "resumen_consultas_medicas_y_no_medicas[\"proporcion_no_medicas\"] = (\n",
    "    resumen_consultas_medicas_y_no_medicas[\"n_consultas_no_medicas\"]\n",
    "    / resumen_consultas_medicas_y_no_medicas[\"n_consultas_medicas\"]\n",
    ") * 100\n",
    "\n",
    "resumen_consultas_medicas_y_no_medicas = resumen_consultas_medicas_y_no_medicas.reset_index()"
   ]
  },
  {
   "cell_type": "code",
   "execution_count": null,
   "metadata": {},
   "outputs": [],
   "source": [
    "sns.barplot(\n",
    "    resumen_consultas_medicas_y_no_medicas,\n",
    "    hue=\"tipoprofesional\",\n",
    "    x=\"ano\",\n",
    "    y=\"proporcion_no_medicas\",\n",
    ")"
   ]
  },
  {
   "cell_type": "code",
   "execution_count": null,
   "metadata": {},
   "outputs": [],
   "source": [
    "resumen_consultas_medicas_y_no_medicas.sort_values([\"tipoprofesional\", \"ano\"])"
   ]
  },
  {
   "cell_type": "code",
   "execution_count": null,
   "metadata": {},
   "outputs": [],
   "source": [
    "resumen_acumulado = resumen_consultas_medicas_y_no_medicas.groupby(\"tipoprofesional\").sum()\n",
    "resumen_acumulado[\"proporcion_no_medicas\"] = (\n",
    "    resumen_acumulado[\"n_consultas_no_medicas\"] / resumen_acumulado[\"n_consultas_medicas\"]\n",
    ") * 100"
   ]
  },
  {
   "cell_type": "code",
   "execution_count": null,
   "metadata": {},
   "outputs": [],
   "source": [
    "consultas_no_medicas.query(\"tipoprofesional == 'Enfermera (o)'\")[\"prestacion\"].value_counts()"
   ]
  },
  {
   "cell_type": "code",
   "execution_count": null,
   "metadata": {},
   "outputs": [],
   "source": [
    "df_track[df_track[\"prestacion\"].fillna(\"\").str.contains(\"Taller\")]"
   ]
  },
  {
   "cell_type": "code",
   "execution_count": null,
   "metadata": {},
   "outputs": [],
   "source": []
  }
 ],
 "metadata": {
  "language_info": {
   "name": "python"
  }
 },
 "nbformat": 4,
 "nbformat_minor": 2
}
