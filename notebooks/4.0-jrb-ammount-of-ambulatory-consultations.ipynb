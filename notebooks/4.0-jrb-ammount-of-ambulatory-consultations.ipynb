{
 "cells": [
  {
   "cell_type": "code",
   "execution_count": null,
   "metadata": {},
   "outputs": [],
   "source": [
    "import sys\n",
    "import os\n",
    "\n",
    "project_root = os.path.abspath('..')\n",
    "if project_root not in sys.path:\n",
    "    sys.path.append(project_root)\n",
    " \n",
    "%load_ext autoreload\n",
    "%autoreload 2"
   ]
  },
  {
   "cell_type": "code",
   "execution_count": null,
   "metadata": {},
   "outputs": [],
   "source": [
    "import pandas as pd\n",
    "import numpy as np\n",
    "\n",
    "import matplotlib.pyplot as plt\n",
    "import seaborn as sns\n",
    "\n",
    "sns.set_theme(palette='pastel')\n",
    "plt.rcParams['figure.figsize'] = (12, 6)\n",
    "pd.set_option('display.max_columns', None)"
   ]
  },
  {
   "cell_type": "code",
   "execution_count": null,
   "metadata": {},
   "outputs": [],
   "source": [
    "# Carga la base de TrackCare\n",
    "df_track = pd.read_csv(\"../data/processed/trackcare_procesada.csv\")\n"
   ]
  },
  {
   "cell_type": "code",
   "execution_count": null,
   "metadata": {},
   "outputs": [],
   "source": [
    "# Deja solamente las consultas atendidas y por medicos\n",
    "df_track_atendidas = df_track.query(\"estadocita == 'Atendido'\")"
   ]
  },
  {
   "cell_type": "code",
   "execution_count": null,
   "metadata": {},
   "outputs": [],
   "source": [
    "# Obtiene la cantidad de consultas por paciente\n",
    "resumen_consultas = (\n",
    "    df_track_atendidas.groupby([\"ano\", \"especialidad\", \"id_paciente\"])\n",
    "    .size()\n",
    "    .reset_index(name=\"cantidad_de_consultas\")\n",
    ")"
   ]
  },
  {
   "cell_type": "code",
   "execution_count": null,
   "metadata": {},
   "outputs": [],
   "source": [
    "# Obtiene la distribucion en cantidad de consultas por paciente\n",
    "distribucion_consultas = resumen_consultas.groupby([\"ano\", \"especialidad\"])[\n",
    "    \"cantidad_de_consultas\"\n",
    "].describe()\n",
    "\n",
    "# Obtiene la cantidad de consultas totales por especialidad\n",
    "cantidad_consultas = df_track_atendidas.groupby([\"ano\", \"especialidad\"]).size()\n",
    "cantidad_consultas.name = \"cantidad_consultas\"\n",
    "\n",
    "# Agrega la cantidad de consultas por especialidad\n",
    "distribucion_consultas = distribucion_consultas.join(cantidad_consultas)"
   ]
  },
  {
   "cell_type": "code",
   "execution_count": null,
   "metadata": {},
   "outputs": [],
   "source": [
    "distribucion_consultas"
   ]
  },
  {
   "cell_type": "code",
   "execution_count": null,
   "metadata": {},
   "outputs": [],
   "source": [
    "resumen_consultas.drop(columns=\"id_paciente\").to_csv(\n",
    "    \"../data/interim/distribucion_consultas.csv\", index=False\n",
    ")"
   ]
  }
 ],
 "metadata": {
  "language_info": {
   "name": "python"
  }
 },
 "nbformat": 4,
 "nbformat_minor": 2
}
