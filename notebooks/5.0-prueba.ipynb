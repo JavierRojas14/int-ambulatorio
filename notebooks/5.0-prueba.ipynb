{
 "cells": [
  {
   "cell_type": "code",
   "execution_count": null,
   "metadata": {},
   "outputs": [],
   "source": [
    "import sys\n",
    "import os\n",
    "\n",
    "project_root = os.path.abspath('..')\n",
    "if project_root not in sys.path:\n",
    "    sys.path.append(project_root)\n",
    " \n",
    "%load_ext autoreload\n",
    "%autoreload 2"
   ]
  },
  {
   "cell_type": "code",
   "execution_count": null,
   "metadata": {},
   "outputs": [],
   "source": [
    "import pandas as pd\n",
    "import numpy as np\n",
    "\n",
    "import matplotlib.pyplot as plt\n",
    "import seaborn as sns\n",
    "\n",
    "sns.set_theme(palette='pastel')\n",
    "plt.rcParams['figure.figsize'] = (12, 6)\n",
    "pd.set_option('display.max_columns', None)"
   ]
  },
  {
   "cell_type": "code",
   "execution_count": null,
   "metadata": {},
   "outputs": [],
   "source": [
    "df = pd.read_csv(\"../data/processed/datos_limpios_diagnosticos.csv\", encoding=\"latin-1\", sep=\";\")"
   ]
  },
  {
   "cell_type": "code",
   "execution_count": null,
   "metadata": {},
   "outputs": [],
   "source": [
    "# Obtiene el desglose del numero de consultas por diagnostico y tipo de especialidad\n",
    "conteo_consultas_por_especialidad = (\n",
    "    df.groupby([\"ano\", \"codigo_diagnostico\"])[\"nombre_especialidad\"]\n",
    "    .value_counts()\n",
    "    .reset_index(name=\"n_consultas\")\n",
    "    .set_index([\"ano\", \"codigo_diagnostico\"])\n",
    ")\n",
    "\n",
    "# Obtiene los pacientes distintos por diagnostico\n",
    "pacientes_por_diagnostico = df.groupby([\"ano\", \"codigo_diagnostico\"])[\"id_paciente\"].nunique()"
   ]
  },
  {
   "cell_type": "code",
   "execution_count": null,
   "metadata": {},
   "outputs": [],
   "source": [
    "pacientes_por_tipo_de_consulta = conteo_consultas_por_especialidad.join(pacientes_por_diagnostico)\n",
    "pacientes_por_tipo_de_consulta[\"fraccion_consulta\"] = (\n",
    "    pacientes_por_tipo_de_consulta[\"n_consultas\"] / pacientes_por_tipo_de_consulta[\"id_paciente\"]\n",
    ")"
   ]
  },
  {
   "cell_type": "code",
   "execution_count": null,
   "metadata": {},
   "outputs": [],
   "source": [
    "pacientes_por_tipo_de_consulta"
   ]
  }
 ],
 "metadata": {
  "language_info": {
   "name": "python"
  }
 },
 "nbformat": 4,
 "nbformat_minor": 2
}
