{
 "cells": [
  {
   "cell_type": "code",
   "execution_count": null,
   "metadata": {},
   "outputs": [],
   "source": [
    "import sys\n",
    "import os\n",
    "\n",
    "project_root = os.path.abspath('..')\n",
    "if project_root not in sys.path:\n",
    "    sys.path.append(project_root)\n",
    " \n",
    "%load_ext autoreload\n",
    "%autoreload 2"
   ]
  },
  {
   "cell_type": "code",
   "execution_count": null,
   "metadata": {},
   "outputs": [],
   "source": [
    "import pandas as pd\n",
    "import numpy as np\n",
    "\n",
    "import matplotlib.pyplot as plt\n",
    "import seaborn as sns\n",
    "\n",
    "sns.set_theme(palette='pastel')\n",
    "plt.rcParams['figure.figsize'] = (12, 6)\n",
    "pd.set_option('display.max_columns', None)\n",
    "\n",
    "AGRUPACIONES_ESPECIALIDAD = {\n",
    "    \"Broncopulmonar\": [\n",
    "        \"AVNIA\",\n",
    "        \"BRONCOPULMONAR ADULTO INT\",\n",
    "        \"BRONQUIECTACIAS\",\n",
    "        \"COMPIN\",\n",
    "        \"DERRAME PLEURAL\",\n",
    "        \"EPOC TIOTROPIO\",\n",
    "        \"ENFERMEDADES PROFESIONALES\",\n",
    "        \"EX. BRONCOSCOPIA\",\n",
    "        \"FIBROSIS PULMONAR\",\n",
    "        \"GES ASMA\",\n",
    "        \"GES EPOC\",\n",
    "        \"GES FIBROSIS QUISTICA\",\n",
    "        \"HIPERTENSION PULMONAR\",\n",
    "        \"INGRESO PROGRAMA DE OXIGENO\",\n",
    "        \"OXIGENOTERAPIA\",\n",
    "        \"PESQUISA CANCER PULMONAR\",\n",
    "        \"PRIORITARIO BRONCOPULMONAR\",\n",
    "        \"PULMON REUMATOLÓGICO\",\n",
    "        \"TABACO GRUPAL\",\n",
    "        \"TABACO INDIVIDUAL\",\n",
    "        \"TBC\",\n",
    "    ],\n",
    "    \"Cardiocirugia\": [\n",
    "        \"CARDIOCIRUGIA\",\n",
    "        \"CARDIOPATIA CONGENITA\",\n",
    "        \"TRASPLANTE CARDIACO\",\n",
    "        \"PATOLOGÍA DE LA AORTA TORÁCICA-MARFAN\",\n",
    "    ],\n",
    "    \"Cirugia de Torax\": [\n",
    "        \"CIRUGIA DE TORAX\",\n",
    "        \"ONCOLOGIA\",\n",
    "        \"TRASPLANTE PULMONAR\",\n",
    "    ],\n",
    "    \"Unidad del Sueno\": [\n",
    "        \"UNIDAD DE SUEÑO\",\n",
    "        \"UNIDAD DE SUEÑO-OTORRINOLARINGOLOGO\",\n",
    "    ],\n",
    "    \"Cardiologia\": [\n",
    "        \"ARRITMIA\",\n",
    "        \"CARDIOLOGIA\",\n",
    "        \"EX. ECOCARDIO URGENCIA\",\n",
    "        \"EX. ECOCARDIOGRAMA\",\n",
    "        \"EX. HOLTER CONGENITOS INT\",\n",
    "        \"EX. TEST DE ESFUERZO CONGENITO\",\n",
    "        \"GES MARCAPASO\",\n",
    "        \"GES MARCAPASO PRE QUIRÚRGICO\",\n",
    "        \"DESFIBRILADORES / RESINCRONIZADORES\",\n",
    "        \"ELECTROFISIOLOGIA\",\n",
    "    ],\n",
    "    \"Cuidados Paliativos\": [\"GES CUIDADOS PALIATIVOS\"],\n",
    "}"
   ]
  },
  {
   "cell_type": "code",
   "execution_count": null,
   "metadata": {},
   "outputs": [],
   "source": [
    "df = pd.read_csv(\"../data/processed/datos_limpios_diagnosticos.csv\", encoding=\"latin-1\", sep=\";\")"
   ]
  },
  {
   "cell_type": "code",
   "execution_count": null,
   "metadata": {},
   "outputs": [],
   "source": [
    "df_especialidades_reemplazadas = df.copy()"
   ]
  },
  {
   "cell_type": "code",
   "execution_count": null,
   "metadata": {},
   "outputs": [],
   "source": [
    "for nuevo_valor, a_cambiar in AGRUPACIONES_ESPECIALIDAD.items():\n",
    "    df_especialidades_reemplazadas[\"nombre_especialidad\"] = df_especialidades_reemplazadas[\n",
    "        \"nombre_especialidad\"\n",
    "    ].replace(a_cambiar, nuevo_valor)"
   ]
  },
  {
   "cell_type": "code",
   "execution_count": null,
   "metadata": {},
   "outputs": [],
   "source": [
    "# Obtiene el desglose del numero de consultas por diagnostico y tipo de especialidad\n",
    "conteo_consultas_por_especialidad = (\n",
    "    df_especialidades_reemplazadas.groupby([\"ano\", \"codigo_diagnostico\"])[\"nombre_especialidad\"]\n",
    "    .value_counts()\n",
    "    .reset_index(name=\"n_consultas\")\n",
    "    .set_index([\"ano\", \"codigo_diagnostico\"])\n",
    ")\n",
    "\n",
    "# Obtiene los pacientes distintos por diagnostico\n",
    "pacientes_por_diagnostico = df_especialidades_reemplazadas.groupby([\"ano\", \"codigo_diagnostico\"])[\n",
    "    \"id_paciente\"\n",
    "].nunique()"
   ]
  },
  {
   "cell_type": "code",
   "execution_count": null,
   "metadata": {},
   "outputs": [],
   "source": [
    "pacientes_por_tipo_de_consulta = conteo_consultas_por_especialidad.join(pacientes_por_diagnostico)\n",
    "pacientes_por_tipo_de_consulta[\"fraccion_consulta\"] = (\n",
    "    pacientes_por_tipo_de_consulta[\"n_consultas\"] / pacientes_por_tipo_de_consulta[\"id_paciente\"]\n",
    ")\n",
    "pacientes_por_tipo_de_consulta = pacientes_por_tipo_de_consulta.reset_index()"
   ]
  },
  {
   "cell_type": "code",
   "execution_count": null,
   "metadata": {},
   "outputs": [],
   "source": [
    "pacientes_por_tipo_de_consulta"
   ]
  },
  {
   "cell_type": "code",
   "execution_count": null,
   "metadata": {},
   "outputs": [],
   "source": []
  }
 ],
 "metadata": {
  "language_info": {
   "name": "python"
  }
 },
 "nbformat": 4,
 "nbformat_minor": 2
}
