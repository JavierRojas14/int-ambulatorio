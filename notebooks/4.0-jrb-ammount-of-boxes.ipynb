{
 "cells": [
  {
   "cell_type": "code",
   "execution_count": 1,
   "metadata": {},
   "outputs": [],
   "source": [
    "import sys\n",
    "import os\n",
    "\n",
    "project_root = os.path.abspath('..')\n",
    "if project_root not in sys.path:\n",
    "    sys.path.append(project_root)\n",
    "\n",
    "%load_ext autoreload\n",
    "%autoreload 2"
   ]
  },
  {
   "cell_type": "code",
   "execution_count": 2,
   "metadata": {},
   "outputs": [],
   "source": [
    "import pandas as pd\n",
    "import numpy as np\n",
    "\n",
    "import matplotlib.pyplot as plt\n",
    "import seaborn as sns\n",
    "\n",
    "sns.set_style()\n",
    "plt.rcParams[\"figure.figsize\"] = (12, 6)"
   ]
  },
  {
   "cell_type": "markdown",
   "metadata": {},
   "source": [
    "## 1. Análisis de Boxes por Cada tipo de Consulta\n",
    "\n",
    "En este análisis se quiere calcular la cantidad de Boxes para Consultas son necesarios para el\n",
    "INT. Para esto, se utilizará la base de datos de HIS (aunque se contrastará con TrackCare) para\n",
    "identificar la cantidad de consultas por diagnóstico.\n",
    "\n",
    "La lógica del análisis es el siguiente:\n",
    "\n",
    "1. Obtener la cantidad de consultas en un periodo (ejemplo: Año, 22000 Consultas al año).\n",
    "2. Obtener la cantidad de días laborales en el periodo (ejemplo: En el año 2022, 251 días laborales)\n",
    "3. Calcular la cantidad de consultas que se deben atender por día. La fórmula para calcularlo es\n",
    "la siguiente:\n",
    "\n",
    "$ ConsultasPorDía = \\frac{CantidadDeConsultasEnUnPeriodo}{DíasLaboralesEnUnPeriodo}$\n",
    "\n",
    "4. Calcular la cantidad de Boxes necesario para suplir las Consultas por día. En este caso se asume\n",
    "que **cada día laboral tiene 9 horas hábiles** para atender consultas, y que se **atienden 3 consultas\n",
    "por hora**. Lo anterior significaría que **1 Box de Consultas puede realizar 27 Consultas al día** \n",
    "(Capacidad de Box). Por lo tanto:\n",
    "\n",
    "$ BoxesNecesarios = \\frac{ConsultasPorDía}{CapacidadDeBox}$\n",
    "\n",
    "Donde:\n",
    "\n",
    "$ CapacidadDeBox = (HorasHabilesEnDia * ConsultasPorHora)$"
   ]
  }
 ],
 "metadata": {
  "kernelspec": {
   "display_name": "int-ambulatorio",
   "language": "python",
   "name": "python3"
  },
  "language_info": {
   "codemirror_mode": {
    "name": "ipython",
    "version": 3
   },
   "file_extension": ".py",
   "mimetype": "text/x-python",
   "name": "python",
   "nbconvert_exporter": "python",
   "pygments_lexer": "ipython3",
   "version": "3.11.5"
  }
 },
 "nbformat": 4,
 "nbformat_minor": 2
}
