{
 "cells": [
  {
   "cell_type": "code",
   "execution_count": 4,
   "metadata": {},
   "outputs": [
    {
     "name": "stdout",
     "output_type": "stream",
     "text": [
      "The autoreload extension is already loaded. To reload it, use:\n",
      "  %reload_ext autoreload\n"
     ]
    }
   ],
   "source": [
    "import sys\n",
    "import os\n",
    "\n",
    "project_root = os.path.abspath('..')\n",
    "if project_root not in sys.path:\n",
    "    sys.path.append(project_root)\n",
    " \n",
    "%load_ext autoreload\n",
    "%autoreload 2"
   ]
  },
  {
   "cell_type": "code",
   "execution_count": 14,
   "metadata": {},
   "outputs": [],
   "source": [
    "import pandas as pd\n",
    "import numpy as np\n",
    "import polars as pl\n",
    "\n",
    "import matplotlib.pyplot as plt\n",
    "import seaborn as sns\n",
    "\n",
    "import warnings\n",
    "\n",
    "from ydata_profiling import ProfileReport\n",
    "import src.data.make_dataset as data\n",
    "import glob\n",
    "import json\n",
    "\n",
    "warnings.filterwarnings(\"ignore\")\n",
    "sns.set_style()\n",
    "plt.rcParams[\"figure.figsize\"] = (12, 6)"
   ]
  },
  {
   "cell_type": "code",
   "execution_count": 25,
   "metadata": {},
   "outputs": [],
   "source": [
    "df_raw = pd.concat(\n",
    "    (\n",
    "        pd.read_excel(archivo, usecols=make_dataset.COLS_A_OCUPAR.keys())\n",
    "        for archivo in glob.glob(\"../data/raw/diagnosticos/*.xlsx\")\n",
    "    )\n",
    ")\n",
    "df_raw = df_raw.drop(columns=data.COLS_A_ELIMINAR + [\"Rut Paciente\", \"Rut Profesional\"])\n"
   ]
  },
  {
   "cell_type": "code",
   "execution_count": 26,
   "metadata": {},
   "outputs": [],
   "source": [
    "df_raw[\"Código Diagnóstico\"] = df_raw[\"Código Diagnóstico\"].astype(str)\n"
   ]
  },
  {
   "cell_type": "code",
   "execution_count": 28,
   "metadata": {},
   "outputs": [],
   "source": [
    "df_limpia = pd.read_csv(\n",
    "    \"../data/processed/datos_limpios_diagnosticos.csv\", encoding=\"latin-1\", sep=\";\"\n",
    ")"
   ]
  },
  {
   "attachments": {},
   "cell_type": "markdown",
   "metadata": {},
   "source": [
    "# Analisis exploratorio previo al preprocesamiento"
   ]
  },
  {
   "cell_type": "code",
   "execution_count": 29,
   "metadata": {},
   "outputs": [
    {
     "data": {
      "application/vnd.jupyter.widget-view+json": {
       "model_id": "dddca9375c734a3f966f100c72f96d06",
       "version_major": 2,
       "version_minor": 0
      },
      "text/plain": [
       "Summarize dataset:   0%|          | 0/5 [00:00<?, ?it/s]"
      ]
     },
     "metadata": {},
     "output_type": "display_data"
    },
    {
     "data": {
      "application/vnd.jupyter.widget-view+json": {
       "model_id": "ee4ab024649a427cadb4485d78b6d573",
       "version_major": 2,
       "version_minor": 0
      },
      "text/plain": [
       "Generate report structure:   0%|          | 0/1 [00:00<?, ?it/s]"
      ]
     },
     "metadata": {},
     "output_type": "display_data"
    },
    {
     "data": {
      "application/vnd.jupyter.widget-view+json": {
       "model_id": "a77453fa650d4e9590333a4b939e51b1",
       "version_major": 2,
       "version_minor": 0
      },
      "text/plain": [
       "Render HTML:   0%|          | 0/1 [00:00<?, ?it/s]"
      ]
     },
     "metadata": {},
     "output_type": "display_data"
    },
    {
     "data": {
      "application/vnd.jupyter.widget-view+json": {
       "model_id": "62fa4e200cfa4344b05e7e049025b022",
       "version_major": 2,
       "version_minor": 0
      },
      "text/plain": [
       "Export report to file:   0%|          | 0/1 [00:00<?, ?it/s]"
      ]
     },
     "metadata": {},
     "output_type": "display_data"
    }
   ],
   "source": [
    "report = ProfileReport(df_raw)\n",
    "report.to_file(\"../reports/1.0-jrb-exploratory-data-analysis.html\")"
   ]
  },
  {
   "attachments": {},
   "cell_type": "markdown",
   "metadata": {},
   "source": [
    "## Analisis de Columna Codigo Diagnostico"
   ]
  },
  {
   "cell_type": "code",
   "execution_count": 30,
   "metadata": {},
   "outputs": [
    {
     "data": {
      "text/plain": [
       "5    58.598147\n",
       "3    27.038000\n",
       "7     9.194450\n",
       "2     1.983357\n",
       "6     1.550353\n",
       "4     1.053433\n",
       "1     0.581900\n",
       "8     0.000360\n",
       "Name: Código Diagnóstico, dtype: float64"
      ]
     },
     "metadata": {},
     "output_type": "display_data"
    }
   ],
   "source": [
    "largo_codigos = df_raw[\"Código Diagnóstico\"].str.len().value_counts(normalize=True, dropna=False)\n",
    "display(largo_codigos * 100)\n"
   ]
  },
  {
   "attachments": {},
   "cell_type": "markdown",
   "metadata": {},
   "source": [
    "- El 58.6% de los codigos presenta largo 5. Los codigos con largo 5 son del tipo: \"C38.4\" o \"C34_1\", por\n",
    "lo que es el formato deseable"
   ]
  },
  {
   "cell_type": "code",
   "execution_count": 31,
   "metadata": {},
   "outputs": [
    {
     "data": {
      "text/plain": [
       "184420    200-1\n",
       "14061     C34_3\n",
       "112643    I49.8\n",
       "55419     J44.9\n",
       "81008     Z94.1\n",
       "55862     I05.1\n",
       "200290    I08.0\n",
       "113807    Q21.1\n",
       "28993     G47.3\n",
       "37400     I35.0\n",
       "Name: Código Diagnóstico, dtype: object"
      ]
     },
     "execution_count": 31,
     "metadata": {},
     "output_type": "execute_result"
    }
   ],
   "source": [
    "df_raw[df_raw[\"Código Diagnóstico\"].str.len() == 5][\"Código Diagnóstico\"].sample(10)\n"
   ]
  },
  {
   "attachments": {},
   "cell_type": "markdown",
   "metadata": {},
   "source": [
    "\n",
    "- El 27.0% de los codigos presenta largo 3. Los codigos con largo 3 son del tipo: \"R05\", \"C34\", por\n",
    "lo que corresponde a la Categoria del diagnostico.\n"
   ]
  },
  {
   "cell_type": "code",
   "execution_count": 32,
   "metadata": {},
   "outputs": [
    {
     "data": {
      "text/plain": [
       "Código Diagnóstico  Nombre Diagnóstico                                               \n",
       "I99                 Otros trastornos y los no especificados del sistema circulatorio     29603\n",
       "J47                 Bronquiectasia                                                       15305\n",
       "I50                 Insuficiencia cardíaca                                               13381\n",
       "C34                 Tumor maligno de los bronquios y del pulmón                          11886\n",
       "J84                 Otras enfermedades pulmonares intersticiales                         11185\n",
       "                                                                                         ...  \n",
       "I13                 Hipertensión cardíaca y enfermedad renal.                                1\n",
       "R96                 Otras muertes súbitas de causa desconocida                               1\n",
       "H60                 Otitis externa                                                           1\n",
       "H55                 Nistagmo y otros movimientos oculares irregulares                        1\n",
       "Z97                 Presencia de otros dispositivos                                          1\n",
       "Length: 524, dtype: int64"
      ]
     },
     "metadata": {},
     "output_type": "display_data"
    }
   ],
   "source": [
    "largo_3 = df_raw[df_raw[\"Código Diagnóstico\"].str.len() == 3][\n",
    "    [\"Código Diagnóstico\", \"Nombre Diagnóstico\"]\n",
    "].value_counts()\n",
    "display(largo_3)"
   ]
  },
  {
   "attachments": {},
   "cell_type": "markdown",
   "metadata": {},
   "source": [
    "- El 9.19% de los codigos presenta largo 7. Los codigos con largo 7 son del tipo: \"J44.8.4\" o \"E10-E16\"."
   ]
  },
  {
   "cell_type": "code",
   "execution_count": 33,
   "metadata": {},
   "outputs": [
    {
     "data": {
      "text/plain": [
       "111894    J45.0.1\n",
       "56798     J45.0.3\n",
       "134498    J45.9.1\n",
       "267709    I20-I25\n",
       "146643    E65-E68\n",
       "130724    J45.0.1\n",
       "175130    J45.0.3\n",
       "300299    J45.9.1\n",
       "223053    J43.1.2\n",
       "333761    J45.0.2\n",
       "Name: Código Diagnóstico, dtype: object"
      ]
     },
     "metadata": {},
     "output_type": "display_data"
    }
   ],
   "source": [
    "largo_7 = df_raw[df_raw[\"Código Diagnóstico\"].str.len() == 7][\"Código Diagnóstico\"].sample(10)\n",
    "display(largo_7)\n"
   ]
  },
  {
   "attachments": {},
   "cell_type": "markdown",
   "metadata": {},
   "source": [
    "- El 1.98% de los codigos presenta largo 2. Los codigos con largo 2 son del tipo: \"55\", por lo que\n",
    "tienen una notacion de diagnostico deficiente. Sin embargo, estos codigos se relacionan a un\n",
    "unico \"Nombre Diagnostico\". Esto puede permitir recodificar estos codigos de forma mas facil."
   ]
  },
  {
   "cell_type": "code",
   "execution_count": 34,
   "metadata": {},
   "outputs": [
    {
     "data": {
      "text/plain": [
       "Código Diagnóstico  Nombre Diagnóstico                    \n",
       "55                  Fibrosis pulmonar                         4335\n",
       "79                  Trasplante  Pulmon                        2788\n",
       "78                  Trasplante Cardiaco                       1197\n",
       "41                  Nódulo pulmonar                            842\n",
       "20                  Bronquiectasias                            363\n",
       "54                  Enfermedad pulmonar difusa                 342\n",
       "42                  Tumor pulmonar                             113\n",
       "77                  Asma Bronquial en el Adulto (Sospecha)     110\n",
       "74                  Tabaquismo                                 100\n",
       "64                  Hipertensión pulmonar primaria              99\n",
       "17                  Neumonitis por hipersensibilidad            98\n",
       "49                  Disnea en estudio                           79\n",
       "44                  Cáncer pulmonar                             53\n",
       "21                  Bronquiectasias infectadas                  50\n",
       "59                  Insuficiencia respiratoria crónica          44\n",
       "56                  SAOS                                        40\n",
       "48                  Tos en estudio                              39\n",
       "29                  Bronquitis aguda                            34\n",
       "61                  Derrame pleural en estudio                  34\n",
       "45                  Cáncer pulmonar avanzado                    31\n",
       "53                  Tromboembolismo pulmonar                    19\n",
       "38                  Empiema pleural                             17\n",
       "40                  Hemoptisis                                  16\n",
       "50                  Insuficiencia cardiaca congestiva           15\n",
       "62                  Derrame pleural neoplásico                  14\n",
       "10                  Hidatidosis pulmonar                        11\n",
       "15                  Enfermedad pulmonar ocupacional             11\n",
       "16                  Vasculitis y pulmon                         10\n",
       "26                  Faringitis aguda                            10\n",
       "57                  Sindrome hipoventilación obesidad            8\n",
       "18                  Sarcoidosis                                  8\n",
       "46                  Metástasis pulmonar                          7\n",
       "80                  Fibrosis Quistica sospecha                   6\n",
       "14                  Neumotorax secundario                        6\n",
       "34                  Neumonía nosocomial                          6\n",
       "28                  Traqueobronquitis aguda                      6\n",
       "68                  Rinitis alérgica                             5\n",
       "63                  Hipertensión pulmonar en estudio             5\n",
       "39                  Absceso pulmonar                             5\n",
       "51                  enfermedad coronaria                         5\n",
       "36                  Neumonía comunitaria aguda                   5\n",
       "23                  Fibrosis quística infectada                  4\n",
       "30                  Sinusitis aguda                              4\n",
       "65                  Hipertensión pulmonar descompensada          3\n",
       "47                  Linfangitis carcinomatosa                    3\n",
       "25                  Estado gripal                                2\n",
       "24                  Virosis respiratoria                         2\n",
       "35                  Neumonía intersticial aguda                  2\n",
       "72                  Estenosis traqueal                           2\n",
       "37                  Pleuroneumonía                               2\n",
       "13                  Neumotorax primario                          2\n",
       "58                  Insuficiencia respiratoria aguda             2\n",
       "11                  Trauma torácico                              1\n",
       "19                  Amiloidosis pulmonar                         1\n",
       "dtype: int64"
      ]
     },
     "metadata": {},
     "output_type": "display_data"
    }
   ],
   "source": [
    "largo_2 = df_raw[df_raw[\"Código Diagnóstico\"].str.len() == 2][\n",
    "    [\"Código Diagnóstico\", \"Nombre Diagnóstico\"]\n",
    "].value_counts()\n",
    "display(largo_2)"
   ]
  },
  {
   "attachments": {},
   "cell_type": "markdown",
   "metadata": {},
   "source": [
    "- El 1.55% de los codigos presenta largo 6. Los codigos con largo 6 son del tipo: \"300-23\". Tambien tienen\n",
    "una relacion 1:1 entre Código Diagnóstico y Nombre Diagnóstico."
   ]
  },
  {
   "cell_type": "code",
   "execution_count": 35,
   "metadata": {},
   "outputs": [
    {
     "data": {
      "text/plain": [
       "Código Diagnóstico  Nombre Diagnóstico                                                             \n",
       "300-23              Tetralogía de Fallot (TOF)                                                         2523\n",
       "300-32              Ventriculo Unico Funcional                                                         1385\n",
       "300-28              Transposición Grandes Arterias (discordancia de la conexión ventriculoarterial)     848\n",
       "300-29              Transposición Grandes Arterias + CIV                                                519\n",
       "300-12              Doble Salida VD (DSVD)                                                              517\n",
       "                                                                                                       ... \n",
       "902-12              Preexcitación ventricular                                                             2\n",
       "I51.14              CIV Sub Aórtica (tipo fallot)                                                         2\n",
       "902-27              Macroreentrada post cirugía cardiaca                                                  2\n",
       "902-24              Flutter auricular post cierre de CIA                                                  1\n",
       "300-31              Transposición Grandes Arterias con Septum Interventricular Intacto + OTSVI            1\n",
       "Length: 76, dtype: int64"
      ]
     },
     "metadata": {},
     "output_type": "display_data"
    }
   ],
   "source": [
    "largo_6 = df_raw[df_raw[\"Código Diagnóstico\"].str.len() == 6][\n",
    "    [\"Código Diagnóstico\", \"Nombre Diagnóstico\"]\n",
    "].value_counts()\n",
    "display(largo_6)"
   ]
  },
  {
   "attachments": {},
   "cell_type": "markdown",
   "metadata": {},
   "source": [
    "- El 1.05% de los codigos presenta largo 4 y son del tipo: \"81-4\" o \"I32*\""
   ]
  },
  {
   "cell_type": "code",
   "execution_count": 36,
   "metadata": {},
   "outputs": [
    {
     "data": {
      "text/plain": [
       "Código Diagnóstico  Nombre Diagnóstico                                     \n",
       "81-4                Otro                                                       4553\n",
       "88-1                Otro:                                                       300\n",
       "81-6                Estenosis Pulmonar Valvular                                 254\n",
       "91-3                Enfermedad Coronaria 3V                                     251\n",
       "85-6                Cardiomiopatía Isquemica                                    126\n",
       "91-1                Enfermedad Coronaria 1V                                      80\n",
       "85-3                Enfermedad Coronaria (cardiopatía coronaria)                 73\n",
       "91-2                Enfermedad Coronaria 2V                                      66\n",
       "91-5                Aneurisma Aorta Ascendnte (sin mención de ruptura)           43\n",
       "91-6                Aneurisma Raíz Aórtica (sin mención de ruptura)              25\n",
       "81-5                Estenosis Pulmonar Subvalvular (Infundibular)                16\n",
       "81-7                Estenosis Pulmonar Supravalvular                             13\n",
       "91-7                Angina de Esfuerzo                                           12\n",
       "85-7                Enfermedad aterosclerótica del corazón                        9\n",
       "91-4                Enfermedad Coronaria a TC + Otro V                            8\n",
       "I32*                Pericarditis en enfermedades clasificadas en otra parte       7\n",
       "81-3                VD doble cámara                                               5\n",
       "85-5                Enfermedad Sistema Éxito Conductor                            3\n",
       "85-4                Enfermedad Mixta Coronario-Valvular                           3\n",
       "81-8                Estenosis Arterias Pulmonares (hasta hilio)                   2\n",
       "91-8                Angina Inestable                                              2\n",
       "dtype: int64"
      ]
     },
     "metadata": {},
     "output_type": "display_data"
    }
   ],
   "source": [
    "largo_4 = df_raw[df_raw[\"Código Diagnóstico\"].str.len() == 4][\n",
    "    [\"Código Diagnóstico\", \"Nombre Diagnóstico\"]\n",
    "].value_counts()\n",
    "display(largo_4)"
   ]
  },
  {
   "attachments": {},
   "cell_type": "markdown",
   "metadata": {},
   "source": [
    "- El 0.58% de los codigos presenta largo 1, y son del tipo \"5\" o \"6\""
   ]
  },
  {
   "cell_type": "code",
   "execution_count": 37,
   "metadata": {},
   "outputs": [
    {
     "data": {
      "text/plain": [
       "Código Diagnóstico  Nombre Diagnóstico          \n",
       "5                   Otro                            3072\n",
       "6                   Ex TBC pulmonar                  107\n",
       "2                   Crisis asmática                   23\n",
       "7                   TBC pulmonar                      23\n",
       "8                   TBC pulmonar multiresistente       5\n",
       "9                   Micobacteriosis atipica            2\n",
       "dtype: int64"
      ]
     },
     "metadata": {},
     "output_type": "display_data"
    }
   ],
   "source": [
    "largo_1 = df_raw[df_raw[\"Código Diagnóstico\"].str.len() == 1][\n",
    "    [\"Código Diagnóstico\", \"Nombre Diagnóstico\"]\n",
    "].value_counts()\n",
    "display(largo_1)"
   ]
  },
  {
   "attachments": {},
   "cell_type": "markdown",
   "metadata": {},
   "source": [
    "- El 0.00036% de los codigos presenta largo 8, y son del tipo \"Z00- Z13\""
   ]
  },
  {
   "cell_type": "code",
   "execution_count": 38,
   "metadata": {},
   "outputs": [
    {
     "data": {
      "text/plain": [
       "Código Diagnóstico  Nombre Diagnóstico                                  \n",
       "Z00- Z13            PRUEBAS PARA ACLARAR O INVESTIGAR PROBLEMAS DE SALUD    2\n",
       "dtype: int64"
      ]
     },
     "metadata": {},
     "output_type": "display_data"
    }
   ],
   "source": [
    "largo_8 = df_raw[df_raw[\"Código Diagnóstico\"].str.len() == 8][\n",
    "    [\"Código Diagnóstico\", \"Nombre Diagnóstico\"]\n",
    "].value_counts()\n",
    "display(largo_8)"
   ]
  },
  {
   "attachments": {},
   "cell_type": "markdown",
   "metadata": {},
   "source": [
    "## Preprocesamiento de Diagnostico\n",
    "\n",
    "- Teniendo en cuenta los resultados previos, una propuesta tentativa para el preprocesamiento\n",
    "de los codigos de diagnosticos es:\n",
    "\n",
    "    1. Eliminar el simbolo \".\"\n",
    "    2. Eliminar los espacios\n",
    "    2. A los que tienen largo 3, agregar una X al final hasta tener un largo 4\n",
    "    3. A los que tienen largo 7, se separaran en diags con largo 5 (ej: J4591) y largo 7 (ej: E65-E68).\n",
    "    Los que sigan teniendo largo 7 corresponderan a los Capitulos, por lo que sera necesario observar\n",
    "    que hacer con esos diagnosticos (ya que son muy poco especificos)\n",
    "    4. A los que tienen largo 2, 6, 4 y 1 se puede crear un diccionario para transformar el codigo a un\n",
    "    codigo cie"
   ]
  },
  {
   "attachments": {},
   "cell_type": "markdown",
   "metadata": {},
   "source": [
    "# Analisis de base preprocesada"
   ]
  },
  {
   "attachments": {},
   "cell_type": "markdown",
   "metadata": {},
   "source": [
    "## Analisis de Columna Codigo Diagnostico"
   ]
  },
  {
   "cell_type": "code",
   "execution_count": 40,
   "metadata": {},
   "outputs": [],
   "source": [
    "largos = df_limpia[\"codigo_diagnostico\"].str.len().value_counts().index\n"
   ]
  },
  {
   "cell_type": "code",
   "execution_count": 41,
   "metadata": {},
   "outputs": [
    {
     "name": "stdout",
     "output_type": "stream",
     "text": [
      "Los codigos con largo 4 tienen la siguiente forma:\n",
      "Index(['C398', 'Q767', 'Q899', 'M629', 'G551', 'C771', 'J985', 'R002', 'L040',\n",
      "       'I270', 'J320', 'M331', 'K760', 'I110', 'G933', 'R890', 'I272', 'E441',\n",
      "       'E848', 'A183', 'C419', 'M859', 'D171', 'C920', 'M332', 'C967', 'D157',\n",
      "       'K135', '91-4', 'J449'],\n",
      "      dtype='object', name='codigo_diagnostico')\n",
      "\n",
      "Los codigos con largo 3 tienen la siguiente forma:\n",
      "Index(['G98', 'I07', 'D64', 'D76', 'B96', 'D83', 'I99', 'E27', 'M45', 'G99',\n",
      "       'E13', 'R25', 'L98', 'K26', 'J34', 'C91', 'J17', 'Z97', 'C37', 'N02',\n",
      "       'R01', 'I48', 'E12', 'G63', 'M10', 'C49', 'H54', 'R13', 'F09', 'Q21'],\n",
      "      dtype='object', name='codigo_diagnostico')\n",
      "\n",
      "Los codigos con largo 5 tienen la siguiente forma:\n",
      "Index(['904-5', '91-21', '200-3', '300-3', '902-7', '900-5', '300-9', 'D4811',\n",
      "       '200-3', '200-3', '902-7', '903-3', '200-3', 'J4591', 'J4485', '902-6',\n",
      "       'I5115', 'J4591', '81-10', '903-7', 'I5111', '904-5', '900-2', '91-15',\n",
      "       '200-3', '300-7', '903-4', '200-9', '300-2', 'J4591'],\n",
      "      dtype='object', name='codigo_diagnostico')\n",
      "\n",
      "Los codigos con largo 2 tienen la siguiente forma:\n",
      "Index(['20', '61', '38', '25', '11', '41', '17', '63', '44', '56', '18', '80',\n",
      "       '16', '80', '65', '14', '46', '65', '79', '16', '45', '38', '37', '42',\n",
      "       '59', '35', '41', '36', '35', '62'],\n",
      "      dtype='object', name='codigo_diagnostico')\n",
      "\n",
      "Los codigos con largo 7 tienen la siguiente forma:\n",
      "Index(['D37-D48', 'D55-D64', 'L10-L14', 'L00-L08', 'M80-M94', 'D00-D09',\n",
      "       'J10-J18', 'E10-E16', 'E00-E07', 'Z00-Z13', 'A15-A19', 'E00-E07',\n",
      "       'T15-T19', 'J60-J70', 'L50-L54', 'Z20-Z29', 'B00-B09', 'R50-R69',\n",
      "       'G20-G26', 'Q30-Q34', 'R90-R94', 'I26-I28', 'C43-C49', 'I05-I09',\n",
      "       'E65-E68', 'B00-B09', 'C09-C15', 'I70-I79', 'L50-L54', 'R30-R39'],\n",
      "      dtype='object', name='codigo_diagnostico')\n",
      "\n",
      "Los codigos con largo 6 tienen la siguiente forma:\n",
      "Index(['200-17', '902-28', '300-28', '300-21', '902-24', '300-25', '400-19',\n",
      "       '900-14', '400-15', '300-27', '300-27', '200-11', '300-30', '902-21',\n",
      "       '902-14', '904-10', '902-24', '904-10', '902-21', '200-12', '400-42',\n",
      "       '300-25', '300-23', '902-22', '400-15', '903-12', '900-13', '300-10',\n",
      "       '300-21', '400-29'],\n",
      "      dtype='object', name='codigo_diagnostico')\n",
      "\n",
      "Los codigos con largo 1 tienen la siguiente forma:\n",
      "Index(['8', '5', '5', '8', '7', '8', '6', '7', '2', '5', '8', '8', '8', '8',\n",
      "       '8', '9', '6', '7', '5', '2', '6', '2', '9', '9', '7', '9', '2', '2',\n",
      "       '2', '2'],\n",
      "      dtype='object', name='codigo_diagnostico')\n",
      "\n"
     ]
    }
   ],
   "source": [
    "resultados = {}\n",
    "for largo in largos:\n",
    "    filtro_por_largo = df_limpia[\"codigo_diagnostico\"].str.len() == largo\n",
    "\n",
    "    resumen_diags_con_largo = df_limpia[filtro_por_largo][\n",
    "        [\"codigo_diagnostico\", \"nombre_diagnostico\"]\n",
    "    ].value_counts()\n",
    "\n",
    "    resultados[f\"largo_{largo}\"] = resumen_diags_con_largo\n",
    "\n",
    "    print(f\"Los codigos con largo {largo} tienen la siguiente forma:\")\n",
    "    print(resumen_diags_con_largo.sample(30, replace=True).index.get_level_values(0))\n",
    "    print()"
   ]
  },
  {
   "cell_type": "code",
   "execution_count": 42,
   "metadata": {},
   "outputs": [],
   "source": [
    "with pd.ExcelWriter(\"../data/interim/diagnosticos_encontrados.xlsx\") as file:\n",
    "    for nombre_archivo, df_a_guardar in resultados.items():\n",
    "        df_a_guardar.to_excel(file, sheet_name=nombre_archivo)"
   ]
  }
 ],
 "metadata": {
  "kernelspec": {
   "display_name": "base",
   "language": "python",
   "name": "python3"
  },
  "language_info": {
   "codemirror_mode": {
    "name": "ipython",
    "version": 3
   },
   "file_extension": ".py",
   "mimetype": "text/x-python",
   "name": "python",
   "nbconvert_exporter": "python",
   "pygments_lexer": "ipython3",
   "version": "3.10.9"
  },
  "orig_nbformat": 4
 },
 "nbformat": 4,
 "nbformat_minor": 2
}
