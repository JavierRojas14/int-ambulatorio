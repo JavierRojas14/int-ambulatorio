{
 "cells": [
  {
   "cell_type": "code",
   "execution_count": 1,
   "metadata": {},
   "outputs": [],
   "source": [
    "import sys\n",
    "import os\n",
    "\n",
    "project_root = os.path.abspath('..')\n",
    "if project_root not in sys.path:\n",
    "    sys.path.append(project_root)\n",
    " \n",
    "%load_ext autoreload\n",
    "%autoreload 2"
   ]
  },
  {
   "cell_type": "code",
   "execution_count": 2,
   "metadata": {},
   "outputs": [],
   "source": [
    "import pandas as pd\n",
    "import numpy as np\n",
    "import polars as pl\n",
    "\n",
    "import matplotlib.pyplot as plt\n",
    "import seaborn as sns\n",
    "\n",
    "import warnings\n",
    "\n",
    "from ydata_profiling import ProfileReport\n",
    "import src.data.make_dataset as data\n",
    "import glob\n",
    "import json\n",
    "\n",
    "warnings.filterwarnings(\"ignore\")\n",
    "sns.set_style()\n",
    "plt.rcParams[\"figure.figsize\"] = (12, 6)\n"
   ]
  },
  {
   "cell_type": "code",
   "execution_count": 3,
   "metadata": {},
   "outputs": [],
   "source": [
    "df_raw = pd.concat(\n",
    "    (\n",
    "        pd.read_excel(archivo, usecols=data.COLS_A_OCUPAR.keys())\n",
    "        for archivo in glob.glob(\"../data/raw/diagnosticos/*.xlsx\")\n",
    "    )\n",
    ")\n",
    "df_raw = df_raw.drop(columns=data.COLS_A_ELIMINAR + [\"Rut Paciente\", \"Rut Profesional\"])"
   ]
  },
  {
   "cell_type": "code",
   "execution_count": 4,
   "metadata": {},
   "outputs": [],
   "source": [
    "df_raw[\"Código Diagnóstico\"] = df_raw[\"Código Diagnóstico\"].astype(str)"
   ]
  },
  {
   "cell_type": "code",
   "execution_count": 5,
   "metadata": {},
   "outputs": [],
   "source": [
    "df_limpia = pd.read_csv(\n",
    "    \"../data/processed/datos_limpios_diagnosticos.csv\", encoding=\"latin-1\", sep=\";\"\n",
    ")\n"
   ]
  },
  {
   "attachments": {},
   "cell_type": "markdown",
   "metadata": {},
   "source": [
    "# Analisis exploratorio previo al preprocesamiento"
   ]
  },
  {
   "cell_type": "code",
   "execution_count": 6,
   "metadata": {},
   "outputs": [
    {
     "data": {
      "application/vnd.jupyter.widget-view+json": {
       "model_id": "b7d6556150584521889cb5cedfef0f02",
       "version_major": 2,
       "version_minor": 0
      },
      "text/plain": [
       "Summarize dataset:   0%|          | 0/5 [00:00<?, ?it/s]"
      ]
     },
     "metadata": {},
     "output_type": "display_data"
    },
    {
     "data": {
      "application/vnd.jupyter.widget-view+json": {
       "model_id": "82fac617af1a49eea00a328b27ce342f",
       "version_major": 2,
       "version_minor": 0
      },
      "text/plain": [
       "Generate report structure:   0%|          | 0/1 [00:00<?, ?it/s]"
      ]
     },
     "metadata": {},
     "output_type": "display_data"
    },
    {
     "data": {
      "application/vnd.jupyter.widget-view+json": {
       "model_id": "45a335a1192b479bb9bd75de3a9de577",
       "version_major": 2,
       "version_minor": 0
      },
      "text/plain": [
       "Render HTML:   0%|          | 0/1 [00:00<?, ?it/s]"
      ]
     },
     "metadata": {},
     "output_type": "display_data"
    },
    {
     "data": {
      "application/vnd.jupyter.widget-view+json": {
       "model_id": "5a8282b4bdd5419da41c3d50097550b2",
       "version_major": 2,
       "version_minor": 0
      },
      "text/plain": [
       "Export report to file:   0%|          | 0/1 [00:00<?, ?it/s]"
      ]
     },
     "metadata": {},
     "output_type": "display_data"
    }
   ],
   "source": [
    "report = ProfileReport(df_raw)\n",
    "report.to_file(\"../reports/1.0-jrb-exploratory-data-analysis.html\")\n"
   ]
  },
  {
   "attachments": {},
   "cell_type": "markdown",
   "metadata": {},
   "source": [
    "## Analisis de Columna Codigo Diagnostico"
   ]
  },
  {
   "cell_type": "code",
   "execution_count": 7,
   "metadata": {},
   "outputs": [
    {
     "data": {
      "text/plain": [
       "5    58.598147\n",
       "3    27.038000\n",
       "7     9.194450\n",
       "2     1.983357\n",
       "6     1.550353\n",
       "4     1.053433\n",
       "1     0.581900\n",
       "8     0.000360\n",
       "Name: Código Diagnóstico, dtype: float64"
      ]
     },
     "metadata": {},
     "output_type": "display_data"
    }
   ],
   "source": [
    "largo_codigos = df_raw[\"Código Diagnóstico\"].str.len().value_counts(normalize=True, dropna=False)\n",
    "display(largo_codigos * 100)"
   ]
  },
  {
   "attachments": {},
   "cell_type": "markdown",
   "metadata": {},
   "source": [
    "- El 58.6% de los codigos presenta largo 5. Los codigos con largo 5 son del tipo: \"C38.4\" o \"C34_1\", por\n",
    "lo que es el formato deseable"
   ]
  },
  {
   "cell_type": "code",
   "execution_count": 8,
   "metadata": {},
   "outputs": [
    {
     "data": {
      "text/plain": [
       "61564     J67.8\n",
       "198580    G12.2\n",
       "140407    I25.5\n",
       "259254    I35.0\n",
       "137754    I27.0\n",
       "105795    D38.1\n",
       "194795    J44.9\n",
       "13861     G47.3\n",
       "245951    J98.6\n",
       "361510    C34_9\n",
       "Name: Código Diagnóstico, dtype: object"
      ]
     },
     "execution_count": 8,
     "metadata": {},
     "output_type": "execute_result"
    }
   ],
   "source": [
    "df_raw[df_raw[\"Código Diagnóstico\"].str.len() == 5][\"Código Diagnóstico\"].sample(10)"
   ]
  },
  {
   "attachments": {},
   "cell_type": "markdown",
   "metadata": {},
   "source": [
    "\n",
    "- El 27.0% de los codigos presenta largo 3. Los codigos con largo 3 son del tipo: \"R05\", \"C34\", por\n",
    "lo que corresponde a la Categoria del diagnostico.\n"
   ]
  },
  {
   "cell_type": "code",
   "execution_count": 9,
   "metadata": {},
   "outputs": [
    {
     "data": {
      "text/plain": [
       "Código Diagnóstico  Nombre Diagnóstico                                               \n",
       "I99                 Otros trastornos y los no especificados del sistema circulatorio     29603\n",
       "J47                 Bronquiectasia                                                       15305\n",
       "I50                 Insuficiencia cardíaca                                               13381\n",
       "C34                 Tumor maligno de los bronquios y del pulmón                          11886\n",
       "J84                 Otras enfermedades pulmonares intersticiales                         11185\n",
       "                                                                                         ...  \n",
       "I13                 Hipertensión cardíaca y enfermedad renal.                                1\n",
       "R96                 Otras muertes súbitas de causa desconocida                               1\n",
       "H60                 Otitis externa                                                           1\n",
       "H55                 Nistagmo y otros movimientos oculares irregulares                        1\n",
       "Z97                 Presencia de otros dispositivos                                          1\n",
       "Length: 524, dtype: int64"
      ]
     },
     "metadata": {},
     "output_type": "display_data"
    }
   ],
   "source": [
    "largo_3 = df_raw[df_raw[\"Código Diagnóstico\"].str.len() == 3][\n",
    "    [\"Código Diagnóstico\", \"Nombre Diagnóstico\"]\n",
    "].value_counts()\n",
    "display(largo_3)\n"
   ]
  },
  {
   "attachments": {},
   "cell_type": "markdown",
   "metadata": {},
   "source": [
    "- El 9.19% de los codigos presenta largo 7. Los codigos con largo 7 son del tipo: \"J44.8.4\" o \"E10-E16\"."
   ]
  },
  {
   "cell_type": "code",
   "execution_count": 10,
   "metadata": {},
   "outputs": [
    {
     "data": {
      "text/plain": [
       "160630    I20-I25\n",
       "245583    J45.0.2\n",
       "280180    J44.8.4\n",
       "218799    J45.0.2\n",
       "148900    J45.9.1\n",
       "315657    R90-R94\n",
       "103099    J45.0.1\n",
       "98049     E10-E16\n",
       "74955     J45.0.1\n",
       "325137    J45.0.1\n",
       "Name: Código Diagnóstico, dtype: object"
      ]
     },
     "metadata": {},
     "output_type": "display_data"
    }
   ],
   "source": [
    "largo_7 = df_raw[df_raw[\"Código Diagnóstico\"].str.len() == 7][\"Código Diagnóstico\"].sample(10)\n",
    "display(largo_7)"
   ]
  },
  {
   "attachments": {},
   "cell_type": "markdown",
   "metadata": {},
   "source": [
    "- El 1.98% de los codigos presenta largo 2. Los codigos con largo 2 son del tipo: \"55\", por lo que\n",
    "tienen una notacion de diagnostico deficiente. Sin embargo, estos codigos se relacionan a un\n",
    "unico \"Nombre Diagnostico\". Esto puede permitir recodificar estos codigos de forma mas facil."
   ]
  },
  {
   "cell_type": "code",
   "execution_count": 11,
   "metadata": {},
   "outputs": [
    {
     "data": {
      "text/plain": [
       "Código Diagnóstico  Nombre Diagnóstico                    \n",
       "55                  Fibrosis pulmonar                         4335\n",
       "79                  Trasplante  Pulmon                        2788\n",
       "78                  Trasplante Cardiaco                       1197\n",
       "41                  Nódulo pulmonar                            842\n",
       "20                  Bronquiectasias                            363\n",
       "54                  Enfermedad pulmonar difusa                 342\n",
       "42                  Tumor pulmonar                             113\n",
       "77                  Asma Bronquial en el Adulto (Sospecha)     110\n",
       "74                  Tabaquismo                                 100\n",
       "64                  Hipertensión pulmonar primaria              99\n",
       "17                  Neumonitis por hipersensibilidad            98\n",
       "49                  Disnea en estudio                           79\n",
       "44                  Cáncer pulmonar                             53\n",
       "21                  Bronquiectasias infectadas                  50\n",
       "59                  Insuficiencia respiratoria crónica          44\n",
       "56                  SAOS                                        40\n",
       "48                  Tos en estudio                              39\n",
       "29                  Bronquitis aguda                            34\n",
       "61                  Derrame pleural en estudio                  34\n",
       "45                  Cáncer pulmonar avanzado                    31\n",
       "53                  Tromboembolismo pulmonar                    19\n",
       "38                  Empiema pleural                             17\n",
       "40                  Hemoptisis                                  16\n",
       "50                  Insuficiencia cardiaca congestiva           15\n",
       "62                  Derrame pleural neoplásico                  14\n",
       "10                  Hidatidosis pulmonar                        11\n",
       "15                  Enfermedad pulmonar ocupacional             11\n",
       "16                  Vasculitis y pulmon                         10\n",
       "26                  Faringitis aguda                            10\n",
       "57                  Sindrome hipoventilación obesidad            8\n",
       "18                  Sarcoidosis                                  8\n",
       "46                  Metástasis pulmonar                          7\n",
       "80                  Fibrosis Quistica sospecha                   6\n",
       "14                  Neumotorax secundario                        6\n",
       "34                  Neumonía nosocomial                          6\n",
       "28                  Traqueobronquitis aguda                      6\n",
       "68                  Rinitis alérgica                             5\n",
       "63                  Hipertensión pulmonar en estudio             5\n",
       "39                  Absceso pulmonar                             5\n",
       "51                  enfermedad coronaria                         5\n",
       "36                  Neumonía comunitaria aguda                   5\n",
       "23                  Fibrosis quística infectada                  4\n",
       "30                  Sinusitis aguda                              4\n",
       "65                  Hipertensión pulmonar descompensada          3\n",
       "47                  Linfangitis carcinomatosa                    3\n",
       "25                  Estado gripal                                2\n",
       "24                  Virosis respiratoria                         2\n",
       "35                  Neumonía intersticial aguda                  2\n",
       "72                  Estenosis traqueal                           2\n",
       "37                  Pleuroneumonía                               2\n",
       "13                  Neumotorax primario                          2\n",
       "58                  Insuficiencia respiratoria aguda             2\n",
       "11                  Trauma torácico                              1\n",
       "19                  Amiloidosis pulmonar                         1\n",
       "dtype: int64"
      ]
     },
     "metadata": {},
     "output_type": "display_data"
    }
   ],
   "source": [
    "largo_2 = df_raw[df_raw[\"Código Diagnóstico\"].str.len() == 2][\n",
    "    [\"Código Diagnóstico\", \"Nombre Diagnóstico\"]\n",
    "].value_counts()\n",
    "display(largo_2)\n"
   ]
  },
  {
   "attachments": {},
   "cell_type": "markdown",
   "metadata": {},
   "source": [
    "- El 1.55% de los codigos presenta largo 6. Los codigos con largo 6 son del tipo: \"300-23\". Tambien tienen\n",
    "una relacion 1:1 entre Código Diagnóstico y Nombre Diagnóstico."
   ]
  },
  {
   "cell_type": "code",
   "execution_count": 12,
   "metadata": {},
   "outputs": [
    {
     "data": {
      "text/plain": [
       "Código Diagnóstico  Nombre Diagnóstico                                                             \n",
       "300-23              Tetralogía de Fallot (TOF)                                                         2523\n",
       "300-32              Ventriculo Unico Funcional                                                         1385\n",
       "300-28              Transposición Grandes Arterias (discordancia de la conexión ventriculoarterial)     848\n",
       "300-29              Transposición Grandes Arterias + CIV                                                519\n",
       "300-12              Doble Salida VD (DSVD)                                                              517\n",
       "                                                                                                       ... \n",
       "902-12              Preexcitación ventricular                                                             2\n",
       "I51.14              CIV Sub Aórtica (tipo fallot)                                                         2\n",
       "902-27              Macroreentrada post cirugía cardiaca                                                  2\n",
       "902-24              Flutter auricular post cierre de CIA                                                  1\n",
       "300-31              Transposición Grandes Arterias con Septum Interventricular Intacto + OTSVI            1\n",
       "Length: 76, dtype: int64"
      ]
     },
     "metadata": {},
     "output_type": "display_data"
    }
   ],
   "source": [
    "largo_6 = df_raw[df_raw[\"Código Diagnóstico\"].str.len() == 6][\n",
    "    [\"Código Diagnóstico\", \"Nombre Diagnóstico\"]\n",
    "].value_counts()\n",
    "display(largo_6)\n"
   ]
  },
  {
   "attachments": {},
   "cell_type": "markdown",
   "metadata": {},
   "source": [
    "- El 1.05% de los codigos presenta largo 4 y son del tipo: \"81-4\" o \"I32*\""
   ]
  },
  {
   "cell_type": "code",
   "execution_count": 13,
   "metadata": {},
   "outputs": [
    {
     "data": {
      "text/plain": [
       "Código Diagnóstico  Nombre Diagnóstico                                     \n",
       "81-4                Otro                                                       4553\n",
       "88-1                Otro:                                                       300\n",
       "81-6                Estenosis Pulmonar Valvular                                 254\n",
       "91-3                Enfermedad Coronaria 3V                                     251\n",
       "85-6                Cardiomiopatía Isquemica                                    126\n",
       "91-1                Enfermedad Coronaria 1V                                      80\n",
       "85-3                Enfermedad Coronaria (cardiopatía coronaria)                 73\n",
       "91-2                Enfermedad Coronaria 2V                                      66\n",
       "91-5                Aneurisma Aorta Ascendnte (sin mención de ruptura)           43\n",
       "91-6                Aneurisma Raíz Aórtica (sin mención de ruptura)              25\n",
       "81-5                Estenosis Pulmonar Subvalvular (Infundibular)                16\n",
       "81-7                Estenosis Pulmonar Supravalvular                             13\n",
       "91-7                Angina de Esfuerzo                                           12\n",
       "85-7                Enfermedad aterosclerótica del corazón                        9\n",
       "91-4                Enfermedad Coronaria a TC + Otro V                            8\n",
       "I32*                Pericarditis en enfermedades clasificadas en otra parte       7\n",
       "81-3                VD doble cámara                                               5\n",
       "85-5                Enfermedad Sistema Éxito Conductor                            3\n",
       "85-4                Enfermedad Mixta Coronario-Valvular                           3\n",
       "81-8                Estenosis Arterias Pulmonares (hasta hilio)                   2\n",
       "91-8                Angina Inestable                                              2\n",
       "dtype: int64"
      ]
     },
     "metadata": {},
     "output_type": "display_data"
    }
   ],
   "source": [
    "largo_4 = df_raw[df_raw[\"Código Diagnóstico\"].str.len() == 4][\n",
    "    [\"Código Diagnóstico\", \"Nombre Diagnóstico\"]\n",
    "].value_counts()\n",
    "display(largo_4)\n"
   ]
  },
  {
   "attachments": {},
   "cell_type": "markdown",
   "metadata": {},
   "source": [
    "- El 0.58% de los codigos presenta largo 1, y son del tipo \"5\" o \"6\""
   ]
  },
  {
   "cell_type": "code",
   "execution_count": 14,
   "metadata": {},
   "outputs": [
    {
     "data": {
      "text/plain": [
       "Código Diagnóstico  Nombre Diagnóstico          \n",
       "5                   Otro                            3072\n",
       "6                   Ex TBC pulmonar                  107\n",
       "2                   Crisis asmática                   23\n",
       "7                   TBC pulmonar                      23\n",
       "8                   TBC pulmonar multiresistente       5\n",
       "9                   Micobacteriosis atipica            2\n",
       "dtype: int64"
      ]
     },
     "metadata": {},
     "output_type": "display_data"
    }
   ],
   "source": [
    "largo_1 = df_raw[df_raw[\"Código Diagnóstico\"].str.len() == 1][\n",
    "    [\"Código Diagnóstico\", \"Nombre Diagnóstico\"]\n",
    "].value_counts()\n",
    "display(largo_1)\n"
   ]
  },
  {
   "attachments": {},
   "cell_type": "markdown",
   "metadata": {},
   "source": [
    "- El 0.00036% de los codigos presenta largo 8, y son del tipo \"Z00- Z13\""
   ]
  },
  {
   "cell_type": "code",
   "execution_count": 15,
   "metadata": {},
   "outputs": [
    {
     "data": {
      "text/plain": [
       "Código Diagnóstico  Nombre Diagnóstico                                  \n",
       "Z00- Z13            PRUEBAS PARA ACLARAR O INVESTIGAR PROBLEMAS DE SALUD    2\n",
       "dtype: int64"
      ]
     },
     "metadata": {},
     "output_type": "display_data"
    }
   ],
   "source": [
    "largo_8 = df_raw[df_raw[\"Código Diagnóstico\"].str.len() == 8][\n",
    "    [\"Código Diagnóstico\", \"Nombre Diagnóstico\"]\n",
    "].value_counts()\n",
    "display(largo_8)\n"
   ]
  },
  {
   "cell_type": "markdown",
   "metadata": {},
   "source": [
    "## Identificacion de codigos con mas de una glosa"
   ]
  },
  {
   "cell_type": "code",
   "execution_count": 35,
   "metadata": {},
   "outputs": [],
   "source": [
    "duplas_codigo_glosa_diagnostico = (\n",
    "    df_raw[[\"Código Diagnóstico\", \"Nombre Diagnóstico\"]].value_counts().reset_index(name=\"conteo\")\n",
    ")\n",
    "\n",
    "codigos_con_mas_de_una_glosa = duplas_codigo_glosa_diagnostico[\n",
    "    duplas_codigo_glosa_diagnostico.duplicated(\"Código Diagnóstico\", keep=False)\n",
    "].sort_values(\"Código Diagnóstico\")"
   ]
  },
  {
   "cell_type": "code",
   "execution_count": 37,
   "metadata": {},
   "outputs": [
    {
     "data": {
      "text/html": [
       "<div>\n",
       "<style scoped>\n",
       "    .dataframe tbody tr th:only-of-type {\n",
       "        vertical-align: middle;\n",
       "    }\n",
       "\n",
       "    .dataframe tbody tr th {\n",
       "        vertical-align: top;\n",
       "    }\n",
       "\n",
       "    .dataframe thead th {\n",
       "        text-align: right;\n",
       "    }\n",
       "</style>\n",
       "<table border=\"1\" class=\"dataframe\">\n",
       "  <thead>\n",
       "    <tr style=\"text-align: right;\">\n",
       "      <th></th>\n",
       "      <th>Código Diagnóstico</th>\n",
       "      <th>Nombre Diagnóstico</th>\n",
       "      <th>conteo</th>\n",
       "    </tr>\n",
       "  </thead>\n",
       "  <tbody>\n",
       "    <tr>\n",
       "      <th>115</th>\n",
       "      <td>J44.8.1</td>\n",
       "      <td>Bronquitis crónica con enfisema</td>\n",
       "      <td>763</td>\n",
       "    </tr>\n",
       "    <tr>\n",
       "      <th>489</th>\n",
       "      <td>J44.8.1</td>\n",
       "      <td>Bronquitis crónica con enfisema_x000D_\\n_x000D...</td>\n",
       "      <td>49</td>\n",
       "    </tr>\n",
       "    <tr>\n",
       "      <th>15</th>\n",
       "      <td>J45.0.3</td>\n",
       "      <td>Asma atópica</td>\n",
       "      <td>6922</td>\n",
       "    </tr>\n",
       "    <tr>\n",
       "      <th>129</th>\n",
       "      <td>J45.0.3</td>\n",
       "      <td>Asma atópica\\t</td>\n",
       "      <td>621</td>\n",
       "    </tr>\n",
       "    <tr>\n",
       "      <th>33</th>\n",
       "      <td>J45.1.1</td>\n",
       "      <td>Asma no alérgica</td>\n",
       "      <td>4250</td>\n",
       "    </tr>\n",
       "    <tr>\n",
       "      <th>166</th>\n",
       "      <td>J45.1.1</td>\n",
       "      <td>Asma no alérgica_x000D_\\n</td>\n",
       "      <td>377</td>\n",
       "    </tr>\n",
       "  </tbody>\n",
       "</table>\n",
       "</div>"
      ],
      "text/plain": [
       "    Código Diagnóstico                                 Nombre Diagnóstico  \\\n",
       "115            J44.8.1                    Bronquitis crónica con enfisema   \n",
       "489            J44.8.1  Bronquitis crónica con enfisema_x000D_\\n_x000D...   \n",
       "15             J45.0.3                                       Asma atópica   \n",
       "129            J45.0.3                                     Asma atópica\\t   \n",
       "33             J45.1.1                                   Asma no alérgica   \n",
       "166            J45.1.1                          Asma no alérgica_x000D_\\n   \n",
       "\n",
       "     conteo  \n",
       "115     763  \n",
       "489      49  \n",
       "15     6922  \n",
       "129     621  \n",
       "33     4250  \n",
       "166     377  "
      ]
     },
     "metadata": {},
     "output_type": "display_data"
    }
   ],
   "source": [
    "display(codigos_con_mas_de_una_glosa)"
   ]
  },
  {
   "cell_type": "markdown",
   "metadata": {},
   "source": [
    "- Por lo tanto, la base presenta 3 codigos con mas de una glosa (J44.8.1, J45.0.3, J45.1.1) entre\n",
    "2016 e inicio de 2023. Esto sugiere que asignar un CIE genera una glosa especifica."
   ]
  },
  {
   "attachments": {},
   "cell_type": "markdown",
   "metadata": {},
   "source": [
    "## Preprocesamiento de Diagnostico\n",
    "\n",
    "- Teniendo en cuenta los resultados previos, una propuesta tentativa para el preprocesamiento\n",
    "de los codigos de diagnosticos es:\n",
    "\n",
    "    1. Eliminar el simbolo \".\"\n",
    "    2. Eliminar los espacios\n",
    "    2. A los que tienen largo 3, agregar una X al final hasta tener un largo 4\n",
    "    3. A los que tienen largo 7, se separaran en diags con largo 5 (ej: J4591) y largo 7 (ej: E65-E68).\n",
    "    Los que sigan teniendo largo 7 corresponderan a los Capitulos, por lo que sera necesario observar\n",
    "    que hacer con esos diagnosticos (ya que son muy poco especificos)\n",
    "    4. A los que tienen largo 2, 6, 4 y 1 se puede crear un diccionario para transformar el codigo a un\n",
    "    codigo cie"
   ]
  },
  {
   "attachments": {},
   "cell_type": "markdown",
   "metadata": {},
   "source": [
    "# Analisis de base preprocesada"
   ]
  },
  {
   "attachments": {},
   "cell_type": "markdown",
   "metadata": {},
   "source": [
    "## Analisis de Columna Codigo Diagnostico"
   ]
  },
  {
   "cell_type": "code",
   "execution_count": 16,
   "metadata": {},
   "outputs": [
    {
     "data": {
      "text/plain": [
       "4    97.275477\n",
       "7     1.451923\n",
       "6     0.561707\n",
       "2     0.439646\n",
       "5     0.251280\n",
       "1     0.019967\n",
       "Name: codigo_diagnostico, dtype: float64"
      ]
     },
     "metadata": {},
     "output_type": "display_data"
    }
   ],
   "source": [
    "largos = df_limpia[\"codigo_diagnostico\"].str.len().value_counts().index\n",
    "descripcion_largos = (\n",
    "    df_limpia[\"codigo_diagnostico\"].str.len().value_counts(normalize=True, dropna=False)\n",
    ")\n",
    "display(descripcion_largos * 100)"
   ]
  },
  {
   "cell_type": "markdown",
   "metadata": {},
   "source": [
    "Luego del preprocesamiento, los porcentajes de tipos de codigos fueron los siguientes:\n",
    "\n",
    "- El 58.6% de los codigos de la base tienen largo 4\n",
    "- El 27.4% de los codigos de la base tienen largo 3\n",
    "- El 9.0% de los codigos de la base tienen largo 5\n",
    "\n",
    "Esto ya abarca el 95% de toda la base de datos"
   ]
  },
  {
   "cell_type": "code",
   "execution_count": 17,
   "metadata": {},
   "outputs": [
    {
     "name": "stdout",
     "output_type": "stream",
     "text": [
      "Los codigos con largo 4 tienen la siguiente forma:\n",
      "Index(['K26X', 'Z453', 'I31X', 'F09X', 'I361', 'B48X', 'S81X', 'R31X', 'I712',\n",
      "       'L022', 'A184', 'D64X', 'G500', 'E040', 'I455', 'J43X', 'C56X', 'L20X',\n",
      "       'Q323', 'C838', 'G46X', 'T455', 'I839', 'I368', 'D481', 'C37X', 'Q259',\n",
      "       'C637', 'F512', 'L024'],\n",
      "      dtype='object', name='codigo_diagnostico')\n",
      "\n",
      "Los codigos con largo 7 tienen la siguiente forma:\n",
      "Index(['L00-L08', 'N17-N19', 'G80-G83', 'S00-S09', 'J85-J86', 'I30-I52',\n",
      "       'L50-L54', 'E70-E90', 'G90-G99', 'R10-R19', 'E10-E16', 'L00-L08',\n",
      "       'K40-K46', 'J60-J70', 'Q20-Q28', 'G80-G83', 'J00-J06', 'C40-C41',\n",
      "       'Q30-Q34', 'D80-D89', 'H15-H22', 'E00-E07', 'G80-G83', 'I10-I15',\n",
      "       'M80-M94', 'J10-J18', 'G60-G64', 'D37-D48', 'C00-C08', 'G20-G26'],\n",
      "      dtype='object', name='codigo_diagnostico')\n",
      "\n",
      "Los codigos con largo 6 tienen la siguiente forma:\n",
      "Index(['400-22', '400-14', '902-14', '904-10', '200-17', '902-12', '902-28',\n",
      "       '400-29', '400-15', '900-11', '902-24', '300-12', '902-27', '903-11',\n",
      "       '400-18', '400-29', '300-27', '903-11', '300-22', '200-18', '300-17',\n",
      "       '200-10', '300-18', '902-19', '400-12', '200-10', '200-18', '904-10',\n",
      "       '902-14', '200-17'],\n",
      "      dtype='object', name='codigo_diagnostico')\n",
      "\n",
      "Los codigos con largo 2 tienen la siguiente forma:\n",
      "Index(['29', '72', '21', '58', '64', '64', '59', '21', '30', '59', '64', '28',\n",
      "       '57', '54', '15', '72', '50', '35', '51', '63', '72', '17', '53', '51',\n",
      "       '17', '10', '54', '53', '68', '53'],\n",
      "      dtype='object', name='codigo_diagnostico')\n",
      "\n",
      "Los codigos con largo 5 tienen la siguiente forma:\n",
      "Index(['903-4', '900-4', '91-15', '903-4', '905-1', '91-16', '300-7', '903-5',\n",
      "       '200-6', '900-6', '300-5', '91-20', '900-6', '902-6', '904-1', '903-1',\n",
      "       '91-20', '902-8', '903-9', '903-6', '91-26', '902-6', '903-4', '300-7',\n",
      "       '300-8', '900-4', '902-3', '903-9', '300-7', '903-5'],\n",
      "      dtype='object', name='codigo_diagnostico')\n",
      "\n",
      "Los codigos con largo 1 tienen la siguiente forma:\n",
      "Index(['8', '8', '6', '6', '6', '6', '6', '8', '6', '8', '6', '6', '6', '6',\n",
      "       '6', '8', '6', '8', '8', '6', '6', '8', '6', '6', '6', '8', '8', '6',\n",
      "       '6', '6'],\n",
      "      dtype='object', name='codigo_diagnostico')\n",
      "\n"
     ]
    }
   ],
   "source": [
    "resultados = {}\n",
    "for largo in largos:\n",
    "    filtro_por_largo = df_limpia[\"codigo_diagnostico\"].str.len() == largo\n",
    "\n",
    "    resumen_diags_con_largo = df_limpia[filtro_por_largo][\n",
    "        [\"codigo_diagnostico\", \"nombre_diagnostico\"]\n",
    "    ].value_counts()\n",
    "\n",
    "    resultados[f\"largo_{largo}\"] = resumen_diags_con_largo\n",
    "\n",
    "    print(f\"Los codigos con largo {largo} tienen la siguiente forma:\")\n",
    "    print(resumen_diags_con_largo.sample(30, replace=True).index.get_level_values(0))\n",
    "    print()\n"
   ]
  },
  {
   "cell_type": "code",
   "execution_count": 18,
   "metadata": {},
   "outputs": [],
   "source": [
    "with pd.ExcelWriter(\"../data/interim/diagnosticos_encontrados.xlsx\") as file:\n",
    "    for nombre_archivo, df_a_guardar in resultados.items():\n",
    "        df_a_guardar.to_excel(file, sheet_name=nombre_archivo)\n"
   ]
  },
  {
   "cell_type": "code",
   "execution_count": null,
   "metadata": {},
   "outputs": [],
   "source": []
  }
 ],
 "metadata": {
  "kernelspec": {
   "display_name": "base",
   "language": "python",
   "name": "python3"
  },
  "language_info": {
   "codemirror_mode": {
    "name": "ipython",
    "version": 3
   },
   "file_extension": ".py",
   "mimetype": "text/x-python",
   "name": "python",
   "nbconvert_exporter": "python",
   "pygments_lexer": "ipython3",
   "version": "3.10.9"
  },
  "orig_nbformat": 4
 },
 "nbformat": 4,
 "nbformat_minor": 2
}
