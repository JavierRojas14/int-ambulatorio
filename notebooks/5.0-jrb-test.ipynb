{
 "cells": [
  {
   "cell_type": "code",
   "execution_count": null,
   "metadata": {},
   "outputs": [],
   "source": [
    "import sys\n",
    "import os\n",
    "\n",
    "project_root = os.path.abspath('..')\n",
    "if project_root not in sys.path:\n",
    "    sys.path.append(project_root)\n",
    " \n",
    "%load_ext autoreload\n",
    "%autoreload 2"
   ]
  },
  {
   "cell_type": "code",
   "execution_count": null,
   "metadata": {},
   "outputs": [],
   "source": [
    "import pandas as pd\n",
    "import numpy as np\n",
    "\n",
    "import matplotlib.pyplot as plt\n",
    "import seaborn as sns\n",
    "\n",
    "from sklearn.linear_model import LinearRegression\n",
    "\n",
    "sns.set_theme(palette='pastel')\n",
    "plt.rcParams['figure.figsize'] = (12, 6)\n",
    "pd.set_option('display.max_columns', None)"
   ]
  },
  {
   "cell_type": "code",
   "execution_count": null,
   "metadata": {},
   "outputs": [],
   "source": [
    "def generar_features_temporales(df, ventana_rolling=3):\n",
    "    \"\"\"\n",
    "    Genera características relacionadas con series temporales a partir de un DataFrame con \n",
    "    DateTimeIndex.\n",
    "    \n",
    "    Parámetros:\n",
    "    df (pd.DataFrame): DataFrame de entrada con índice de tipo DateTimeIndex.\n",
    "    ventana_rolling (int): Tamaño de la ventana para las estadísticas móviles (por defecto 3).\n",
    "    \n",
    "    Retorno:\n",
    "    pd.DataFrame: DataFrame con las características temporales agregadas.\n",
    "    \"\"\"\n",
    "    \n",
    "    # Verificar si el índice es de tipo DateTime\n",
    "    if not isinstance(df.index, pd.DatetimeIndex):\n",
    "        raise ValueError(\"El DataFrame debe tener un índice de tipo DateTimeIndex.\")\n",
    "    \n",
    "    # Crear nuevas columnas basadas en el índice de fecha\n",
    "    df['year'] = df.index.year\n",
    "    df['month'] = df.index.month\n",
    "    df['day'] = df.index.day\n",
    "    df['day_of_week'] = df.index.dayofweek\n",
    "    df['quarter'] = df.index.quarter\n",
    "    df['is_month_start'] = df.index.is_month_start\n",
    "    df['is_month_end'] = df.index.is_month_end\n",
    "    df['is_quarter_start'] = df.index.is_quarter_start\n",
    "    df['is_quarter_end'] = df.index.is_quarter_end\n",
    "    \n",
    "    # Crear características de lag (retardo) y estadísticas móviles (rolling)\n",
    "    for col in df.select_dtypes(include=['float64', 'int64']).columns:\n",
    "        df[f'{col}_lag1'] = df[col].shift(1)\n",
    "        df[f'{col}_rolling_mean'] = df[col].rolling(window=ventana_rolling).mean()\n",
    "        df[f'{col}_rolling_std'] = df[col].rolling(window=ventana_rolling).std()\n",
    "\n",
    "    return df"
   ]
  },
  {
   "cell_type": "code",
   "execution_count": null,
   "metadata": {},
   "outputs": [],
   "source": [
    "df = pd.read_csv(\"../data/processed/procedimientos_procesada.csv\")\n",
    "\n",
    "df[\"fecha\"] = pd.to_datetime(df[\"fecha\"], errors=\"coerce\")\n",
    "df = df.dropna(subset=\"fecha\")"
   ]
  },
  {
   "cell_type": "code",
   "execution_count": null,
   "metadata": {},
   "outputs": [],
   "source": [
    "produccion_radiografia = (\n",
    "    df.query(\"accion_clinica == 'RADIOGRAFIA DE TORAX FRONTAL Y LATERAL'\")\n",
    "    .groupby(\"fecha\")[\"numero_de_veces\"]\n",
    "    .sum()\n",
    ")"
   ]
  },
  {
   "cell_type": "code",
   "execution_count": null,
   "metadata": {},
   "outputs": [],
   "source": [
    "produccion_radiografia_mensual = produccion_radiografia.resample(\"M\").sum().to_frame()"
   ]
  },
  {
   "cell_type": "code",
   "execution_count": null,
   "metadata": {},
   "outputs": [],
   "source": [
    "fecha_corte = \"2020-01-01\"\n",
    "train = produccion_radiografia_mensual.query(\"fecha < @fecha_corte\").copy()\n",
    "test = produccion_radiografia_mensual.query(\"fecha >= @fecha_corte\").copy()"
   ]
  },
  {
   "cell_type": "code",
   "execution_count": null,
   "metadata": {},
   "outputs": [],
   "source": [
    "train = generar_features_temporales(train)\n",
    "test = generar_features_temporales(test)\n",
    "\n",
    "train = train.dropna()\n",
    "test = test.dropna()\n",
    "\n",
    "# Separa en X_train y y_train\n",
    "X_train = train.drop(columns=\"numero_de_veces\")\n",
    "y_train = train[\"numero_de_veces\"]\n",
    "\n",
    "X_test = test.drop(columns=\"numero_de_veces\")\n",
    "y_test = test[\"numero_de_veces\"]"
   ]
  },
  {
   "cell_type": "code",
   "execution_count": null,
   "metadata": {},
   "outputs": [],
   "source": [
    "modelo = LinearRegression(fit_intercept=True)"
   ]
  },
  {
   "cell_type": "code",
   "execution_count": null,
   "metadata": {},
   "outputs": [],
   "source": [
    "modelo.fit(X_train, y_train)"
   ]
  },
  {
   "cell_type": "code",
   "execution_count": null,
   "metadata": {},
   "outputs": [],
   "source": [
    "yhat = modelo.predict(X_test)"
   ]
  },
  {
   "cell_type": "code",
   "execution_count": null,
   "metadata": {},
   "outputs": [],
   "source": [
    "from sklearn.metrics import mean_absolute_error"
   ]
  },
  {
   "cell_type": "code",
   "execution_count": null,
   "metadata": {},
   "outputs": [],
   "source": [
    "round(mean_absolute_error(y_test, yhat))"
   ]
  },
  {
   "cell_type": "code",
   "execution_count": null,
   "metadata": {},
   "outputs": [],
   "source": []
  }
 ],
 "metadata": {
  "language_info": {
   "name": "python"
  }
 },
 "nbformat": 4,
 "nbformat_minor": 2
}
