{
 "cells": [
  {
   "cell_type": "code",
   "execution_count": null,
   "metadata": {},
   "outputs": [],
   "source": [
    "import sys\n",
    "import os\n",
    "\n",
    "project_root = os.path.abspath('..')\n",
    "if project_root not in sys.path:\n",
    "    sys.path.append(project_root)\n",
    "\n",
    "%load_ext autoreload\n",
    "%autoreload 2"
   ]
  },
  {
   "cell_type": "code",
   "execution_count": null,
   "metadata": {},
   "outputs": [],
   "source": [
    "import pandas as pd\n",
    "import numpy as np\n",
    "\n",
    "import matplotlib.pyplot as plt\n",
    "import seaborn as sns\n",
    "\n",
    "import warnings\n",
    "\n",
    "from src.features import build_features\n",
    "from src.visualization import visualize\n",
    "\n",
    "warnings.filterwarnings(\"ignore\")\n",
    "sns.set_style()\n",
    "plt.rcParams[\"figure.figsize\"] = (12, 6)"
   ]
  },
  {
   "cell_type": "markdown",
   "metadata": {},
   "source": [
    "# Lectura de bases de datos"
   ]
  },
  {
   "cell_type": "markdown",
   "metadata": {},
   "source": [
    "En este análisis se utilizarán 2 bases de datos:\n",
    "\n",
    "- Base de datos de consultas ambulatorias INT\n",
    "- Base de datos de procedimientos ambulatorios INT\n",
    "\n",
    "Ambas bases de datos tienen fechas distintas. "
   ]
  },
  {
   "cell_type": "code",
   "execution_count": null,
   "metadata": {},
   "outputs": [],
   "source": [
    "cie = pd.read_excel(\"../data/external/CIE-10 - sin_puntos_y_X.xlsx\")"
   ]
  },
  {
   "cell_type": "code",
   "execution_count": null,
   "metadata": {},
   "outputs": [],
   "source": [
    "df_diagnosticos = pd.read_csv(\n",
    "    \"../data/processed/datos_limpios_diagnosticos.csv\", encoding=\"latin-1\", sep=\";\"\n",
    ")\n",
    "df_diagnosticos = build_features.formatear_fechas_ambulatorio(df_diagnosticos)\n",
    "df_diagnosticos = build_features.agregar_rango_etario(df_diagnosticos)\n",
    "df_diagnosticos = build_features.agregar_anio_mes_dia(df_diagnosticos, \"fecha_atencion\")\n",
    "df_diagnosticos = df_diagnosticos.sort_values(\"fecha_atencion\")"
   ]
  },
  {
   "cell_type": "code",
   "execution_count": null,
   "metadata": {},
   "outputs": [],
   "source": [
    "df_procedimientos = pd.read_csv(\n",
    "    \"../data/processed/datos_limpios_procedimientos.csv\", encoding=\"latin-1\", sep=\";\"\n",
    ")\n",
    "df_procedimientos = build_features.formatear_fechas_procedimientos(df_procedimientos)\n",
    "df_procedimientos = build_features.agregar_anio_mes_dia(df_procedimientos, \"fecha_realizacion\")\n",
    "df_procedimientos = df_procedimientos.sort_values(\"fecha_realizacion\")\n",
    "\n",
    "cols_texto = df_procedimientos.select_dtypes(include=\"object\").apply(lambda x: x.str.strip())\n",
    "df_procedimientos.loc[:, cols_texto.columns] = cols_texto"
   ]
  },
  {
   "cell_type": "markdown",
   "metadata": {},
   "source": [
    "## 1. Analisis de cantidad de consultas y procedimientos\n",
    "\n",
    "En este apartado se quieren responder las siguientes preguntas:\n",
    "\n",
    "- ¿Cuál es el rango temporal en la que están ambas bases de datos analizadas?\n",
    "- ¿Cuántas consultas hay?\n",
    "- ¿Cuántos procedimientos hay?"
   ]
  },
  {
   "cell_type": "code",
   "execution_count": null,
   "metadata": {},
   "outputs": [],
   "source": [
    "fecha_min_diags = min(df_diagnosticos.fecha_atencion)\n",
    "fecha_max_diags = max(df_diagnosticos.fecha_atencion)\n",
    "\n",
    "fecha_min_proced = min(df_procedimientos.fecha_realizacion)\n",
    "fecha_max_proced = max(df_procedimientos.fecha_realizacion)\n",
    "\n",
    "print(f\"El rango de fechas de diagnosticos es entre {fecha_min_diags} y \" f\" {fecha_max_diags}\")\n",
    "print(f\"El rango de fechas de procedimientos es entre {fecha_min_proced} y \" f\" {fecha_max_proced}\")\n",
    "\n",
    "print(f\"\\nLa base de datos de diagnosticos tiene {df_diagnosticos.shape[0]} consultas\")\n",
    "print(f\"La base de datos de procedimientos tiene {df_procedimientos.shape[0]} procedimientos\")\n",
    "\n",
    "sns.histplot(df_diagnosticos[\"fecha_atencion\"])\n",
    "sns.histplot(df_procedimientos[\"fecha_realizacion\"])\n",
    "plt.show()"
   ]
  },
  {
   "cell_type": "markdown",
   "metadata": {},
   "source": [
    "Los resultados anteriores indican que ambas bases están en rangos temporales distintos. Sin embargo,\n",
    "la base de procedimientos está contenida temporalmente en la base de consultas ambulatorias.\n",
    "\n",
    "Para efectos comparativos, se filtrará la base de consultas ambulatorias para que esté en el mismo\n",
    "rango temporal que la base de procedimientos."
   ]
  },
  {
   "cell_type": "code",
   "execution_count": null,
   "metadata": {},
   "outputs": [],
   "source": [
    "mask_fechas = (df_diagnosticos[\"fecha_atencion\"] >= fecha_min_proced) & (\n",
    "    df_diagnosticos[\"fecha_atencion\"] <= fecha_max_proced\n",
    ")\n",
    "\n",
    "df_diagnosticos_acotado = df_diagnosticos[mask_fechas]"
   ]
  },
  {
   "cell_type": "code",
   "execution_count": null,
   "metadata": {},
   "outputs": [],
   "source": [
    "fecha_min_diags_acotada = min(df_diagnosticos_acotado.fecha_atencion)\n",
    "fecha_max_diags_acotada = max(df_diagnosticos_acotado.fecha_atencion)\n",
    "\n",
    "print(\n",
    "    f\"El rango de fechas de diagnosticos acotado es entre {fecha_min_diags_acotada} y \"\n",
    "    f\" {fecha_max_diags_acotada}\"\n",
    ")\n",
    "\n",
    "print(f\"La base de diagnosticos acotados tiene {df_diagnosticos_acotado.shape[0]} consultas\")\n",
    "\n",
    "sns.histplot(df_diagnosticos_acotado[\"fecha_atencion\"], label=\"Consultas\")\n",
    "sns.histplot(df_procedimientos[\"fecha_realizacion\"], label=\"Procedimientos\")\n",
    "plt.legend()\n",
    "plt.show()"
   ]
  },
  {
   "cell_type": "markdown",
   "metadata": {},
   "source": [
    "Con el filtro aplicado se observa que ambas bases se encuentran en el mismo periodo temporal.\n",
    "Finalmente, en ambas bases se eliminarán los registros que carezcan de una fecha de procedimiento."
   ]
  },
  {
   "cell_type": "code",
   "execution_count": null,
   "metadata": {},
   "outputs": [],
   "source": [
    "df_diagnosticos_acotado = df_diagnosticos_acotado.dropna(subset=\"fecha_atencion\")\n",
    "df_procedimientos = df_procedimientos.dropna(subset=\"fecha_realizacion\")\n",
    "\n",
    "print(f\"La base de datos de consultas acotada tiene {df_diagnosticos_acotado.shape[0]} consultas\")\n",
    "print(f\"La base de datos de procedimeintos tiene {df_procedimientos.shape[0]} procedimientos\")"
   ]
  },
  {
   "cell_type": "markdown",
   "metadata": {},
   "source": [
    "Por lo tanto, ambas bases se dejaron en un mismo rango temporal. La base de diagnósticos quedó\n",
    "con 91916 consultas (de 265441, diferencia de 173525), y la base de procedimientos con 39472 (de 39484, \n",
    "diferencia de 12)."
   ]
  },
  {
   "cell_type": "markdown",
   "metadata": {},
   "source": [
    "## 2 Obtención de insights más importantes de consultas"
   ]
  },
  {
   "cell_type": "markdown",
   "metadata": {},
   "source": [
    "Una vez exportado el análisis se pueden responder las preguntas planteadas al inicio de la\n",
    "sección."
   ]
  },
  {
   "cell_type": "code",
   "execution_count": null,
   "metadata": {},
   "outputs": [],
   "source": [
    "cantidad_consultas_por_anio = df_diagnosticos.groupby(\"ano\").size()\n",
    "cantidad_consultas_por_anio.name = \"consultas_his\"\n",
    "\n",
    "print(f\"La cantidad de consultas en la base de datos es: \\n{cantidad_consultas_por_anio}\\n\")"
   ]
  },
  {
   "cell_type": "code",
   "execution_count": null,
   "metadata": {},
   "outputs": [],
   "source": [
    "# Obtiene las consultas por especialidad\n",
    "consultas_por_especialidad = (\n",
    "    df_diagnosticos.groupby([\"ano\", \"nombre_especialidad\"])\n",
    "    .size()\n",
    "    .reset_index(name=\"cantidad_de_consultas\")\n",
    ")\n",
    "consultas_por_especialidad.to_excel(\"../data/interim/consultas_por_especialidad.xlsx\")"
   ]
  },
  {
   "cell_type": "code",
   "execution_count": null,
   "metadata": {},
   "outputs": [],
   "source": [
    "AGRUPACIONES_ESPECIALIDAD = {\n",
    "    \"Broncopulmonar\": [\n",
    "        \"AVNIA\",\n",
    "        \"BRONCOPULMONAR ADULTO INT\",\n",
    "        \"BRONQUIECTACIAS\",\n",
    "        \"COMPIN\",\n",
    "        \"DERRAME PLEURAL\",\n",
    "        \"EPOC TIOTROPIO\",\n",
    "        \"ENFERMEDADES PROFESIONALES\",\n",
    "        \"EX. BRONCOSCOPIA\",\n",
    "        \"FIBROSIS PULMONAR\",\n",
    "        \"GES ASMA\",\n",
    "        \"GES EPOC\",\n",
    "        \"GES FIBROSIS QUISTICA\",\n",
    "        \"HIPERTENSION PULMONAR\",\n",
    "        \"INGRESO PROGRAMA DE OXIGENO\",\n",
    "        \"OXIGENOTERAPIA\",\n",
    "        \"PESQUISA CANCER PULMONAR\",\n",
    "        \"PRIORITARIO BRONCOPULMONAR\",\n",
    "        \"PULMON REUMATOLÓGICO\",\n",
    "        \"TABACO GRUPAL\",\n",
    "        \"TABACO INDIVIDUAL\",\n",
    "        \"TBC\",\n",
    "    ],\n",
    "    \"Cardiocirugia\": [\n",
    "        \"CARDIOCIRUGIA\",\n",
    "        \"CARDIOPATIA CONGENITA\",\n",
    "        \"TRASPLANTE CARDIACO\",\n",
    "        \"PATOLOGÍA DE LA AORTA TORÁCICA-MARFAN\",\n",
    "    ],\n",
    "    \"Cirugia de Torax\": [\n",
    "        \"CIRUGIA DE TORAX\",\n",
    "        \"ONCOLOGIA\",\n",
    "        \"TRASPLANTE PULMONAR\",\n",
    "    ],\n",
    "    \"Unidad del Sueno\": [\n",
    "        \"UNIDAD DE SUEÑO\",\n",
    "        \"UNIDAD DE SUEÑO-OTORRINOLARINGOLOGO\",\n",
    "    ],\n",
    "    \"Cardiologia\": [\n",
    "        \"ARRITMIA\",\n",
    "        \"CARDIOLOGIA\",\n",
    "        \"EX. ECOCARDIO URGENCIA\",\n",
    "        \"EX. ECOCARDIOGRAMA\",\n",
    "        \"EX. HOLTER CONGENITOS INT\",\n",
    "        \"EX. TEST DE ESFUERZO CONGENITO\",\n",
    "        \"GES MARCAPASO\",\n",
    "        \"GES MARCAPASO PRE QUIRÚRGICO\",\n",
    "        \"DESFIBRILADORES / RESINCRONIZADORES\",\n",
    "        \"ELECTROFISIOLOGIA\",\n",
    "    ],\n",
    "    \"Cuidados Paliativos\": [\"GES CUIDADOS PALIATIVOS\"],\n",
    "}\n",
    "\n",
    "sin_enfermera = df_diagnosticos[\n",
    "    ~df_diagnosticos[\"nombre_especialidad\"].str.contains(\"ENFERMERA\")\n",
    "].copy()\n",
    "sin_enfermera[\"especialidad_agrupada\"] = sin_enfermera[\"nombre_especialidad\"].replace(\n",
    "    AGRUPACIONES_ESPECIALIDAD[\"Broncopulmonar\"], \"Broncopulmonar\"\n",
    ")"
   ]
  },
  {
   "cell_type": "code",
   "execution_count": null,
   "metadata": {},
   "outputs": [],
   "source": [
    "sin_enfermera.groupby(\"ano\")[\"nombre_diagnostico\"].value_counts().to_excel(\"prueba_2.xlsx\")"
   ]
  },
  {
   "cell_type": "code",
   "execution_count": null,
   "metadata": {},
   "outputs": [],
   "source": [
    "sin_enfermera.query(\"nombre_especialidad == 'INMUNODEFICIENCIA'\")[[\"codigo_diagnostico\", \"nombre_diagnostico\"]].value_counts().head(30)"
   ]
  },
  {
   "cell_type": "code",
   "execution_count": null,
   "metadata": {},
   "outputs": [],
   "source": [
    "sin_enfermera.query(\"especialidad_agrupada == 'Broncopulmonar'\").groupby([\"ano\"]).size()"
   ]
  },
  {
   "cell_type": "markdown",
   "metadata": {},
   "source": [
    "A modo de control, se contrastará la base de datos de consultas con la base de datos REM (REM07 (Consultas Medicas) + REM32 (Consultas Medicas Telefonicas)). Esto, ya que permite ver que tan fidedigna\n",
    "es la base de datos ambulatoria. La base de datos REM tiene la siguiente cantidad de consultas:"
   ]
  },
  {
   "cell_type": "code",
   "execution_count": null,
   "metadata": {},
   "outputs": [],
   "source": [
    "resumen_rem = pd.read_csv(\"../data/external/resumen_datos_rem.csv\").set_index(\"year\")\n",
    "display(resumen_rem)"
   ]
  },
  {
   "cell_type": "code",
   "execution_count": null,
   "metadata": {},
   "outputs": [],
   "source": [
    "comparacion_bd_rem = (\n",
    "    pd.merge(cantidad_consultas_por_anio, resumen_rem, left_index=True, right_index=True)\n",
    "    .iloc[:, [0, -1]]\n",
    "    .reset_index()\n",
    ")\n",
    "\n",
    "comparacion_bd_rem.columns = [\"year\", \"consultas_bd\", \"consultas_rem\"]\n",
    "comparacion_bd_rem[\"dif\"] = comparacion_bd_rem.consultas_bd - comparacion_bd_rem.consultas_rem\n",
    "\n",
    "promedio_diferencias_bd_rem = comparacion_bd_rem.dif.mean()\n",
    "minimo_diferencias_bd_rem = comparacion_bd_rem.dif.min()\n",
    "maximo_diferencias_bd_rem = comparacion_bd_rem.dif.max()\n",
    "\n",
    "print(f\"La comparacion de la base de datos con REM es: \\n{comparacion_bd_rem}\\n\")\n",
    "print(\n",
    "    f\"Hay una diferencia promedio de {promedio_diferencias_bd_rem:.0f} consultas entre la base \"\n",
    "    f\"de datos y REM, con un minimo de {minimo_diferencias_bd_rem} y un maximo de \"\n",
    "    f\"{maximo_diferencias_bd_rem} consultas. La distribucion de la diferencia entre ambas \"\n",
    "    f\"bases es:\"\n",
    ")\n",
    "\n",
    "sns.boxplot(comparacion_bd_rem[\"dif\"])\n",
    "plt.show()"
   ]
  },
  {
   "cell_type": "code",
   "execution_count": null,
   "metadata": {},
   "outputs": [],
   "source": []
  },
  {
   "cell_type": "code",
   "execution_count": null,
   "metadata": {},
   "outputs": [],
   "source": []
  },
  {
   "cell_type": "markdown",
   "metadata": {},
   "source": [
    "## 3. Diagnosticos mas relevantes entre 2016 y 2023"
   ]
  },
  {
   "cell_type": "markdown",
   "metadata": {},
   "source": [
    "Posteriormemnte, se quieren seleccionar los 20 diagnósticos más frecuentes para cada uno de los\n",
    "años. Luego, se generará una lista conteniendo solamente los diagnósticos únicos de las listas\n",
    "anteriores."
   ]
  },
  {
   "cell_type": "code",
   "execution_count": null,
   "metadata": {},
   "outputs": [],
   "source": [
    "conteo_consultas_por_diags = (\n",
    "    df_diagnosticos.groupby(\"ano\")[\"codigo_diagnostico\"].value_counts().reset_index()\n",
    ")\n",
    "\n",
    "diags_mas_frecuentes_por_anio = sorted(\n",
    "    conteo_consultas_por_diags.groupby(\"ano\").head(20)[\"codigo_diagnostico\"].unique()\n",
    ")\n",
    "\n",
    "print(f\"Los diagnosticos mas frecuentes son: \\n{diags_mas_frecuentes_por_anio}\")\n",
    "print(f\"> {len(diags_mas_frecuentes_por_anio)} diagnosticos\")"
   ]
  },
  {
   "cell_type": "code",
   "execution_count": null,
   "metadata": {},
   "outputs": [],
   "source": [
    "consultas_totales_mas_relevantes = conteo_consultas_por_diags[\n",
    "    conteo_consultas_por_diags[\"codigo_diagnostico\"].isin(diags_mas_frecuentes_por_anio)\n",
    "]"
   ]
  },
  {
   "cell_type": "code",
   "execution_count": null,
   "metadata": {},
   "outputs": [],
   "source": [
    "display(consultas_totales_mas_relevantes)"
   ]
  },
  {
   "cell_type": "code",
   "execution_count": null,
   "metadata": {},
   "outputs": [],
   "source": [
    "diccionario_resultado = {\n",
    "    \"conteo_consultas\": conteo_consultas_por_diags,\n",
    "    \"conteo_consultas_mas_rel\": consultas_totales_mas_relevantes,\n",
    "}\n",
    "\n",
    "with pd.ExcelWriter(\"../data/interim/diagnosticos_mas_relevantes_ambulatorios.xlsx\") as file:\n",
    "    for nombre_hoja, df_a_guardar in diccionario_resultado.items():\n",
    "        df_a_guardar.to_excel(file, sheet_name=nombre_hoja)"
   ]
  },
  {
   "attachments": {},
   "cell_type": "markdown",
   "metadata": {},
   "source": [
    "## 4. Análisis de Procedimientos por Diagnósticos\n",
    "\n",
    "En este apartado se quieren responder las siguientes preguntas:\n",
    "\n",
    "- ¿Cuál es la canasta de procedimientos que deben tener los pacientes para cada diagnósticos?\n",
    "Por ejemplo: ¿Cuántas tomografías debe tener un paciente que tenga una insuficiencia aórtica?\n",
    "\n",
    "- ¿Existe alguna canasta de procedimientos distinta para pacientes con un mismo diagnóstico?\n",
    "\n",
    "\n",
    "Uno de los problemas que existe al responder esta pregunta, es que la base de datos estadísticos/procedimientos\n",
    "carece de un diagnóstico para el paciente. \n",
    "\n",
    "El problema anterior puede ser resuelto utilizando la base de datos de consultas ambulatoria. La\n",
    "lógica de la resolución es la siguiente:\n",
    "\n",
    "1. Se utilizará la base de datos de procedimientos como base principal.\n",
    "2. La base anterior será filtrada dejando solamente pacientes que hayan tenido una consulta ambulatoria.\n",
    "3. Luego, a cada dulpa de paciente-procedimiento se la asignará un diagnóstico. Para asignar el\n",
    "diagnóstico se seguiran los siguientes pasos:\n",
    "    1. Se obtendrá la fecha en que el paciente se realizó el procedimiento\n",
    "    2. Desde la base de consultas ambulatorias, se encontrará la consulta más próxima a la fecha\n",
    "    del procedimiento.\n",
    "    3. Una vez encontrada la consulta más próxima al procedimiento, se asignará el diagnóstico\n",
    "    asociado a tal consulta.\n",
    "\n",
    "Una vez aplicado los pasos anterior, se obtendrá una base de datos donde se relaciona el diagnóstico\n",
    "y los procedimientos realizados."
   ]
  },
  {
   "cell_type": "markdown",
   "metadata": {},
   "source": [
    "### 3.1 Obtención de pacientes con procedimientos Y consultas"
   ]
  },
  {
   "cell_type": "code",
   "execution_count": null,
   "metadata": {},
   "outputs": [],
   "source": [
    "pacientes_en_consultas = df_diagnosticos[\"id_paciente\"].unique()\n",
    "pacientes_en_procedimientos = df_procedimientos[\"id_paciente\"].unique()\n",
    "\n",
    "\n",
    "pacientes_con_proced_y_consultas = df_procedimientos[\n",
    "    df_procedimientos[\"id_paciente\"].isin(pacientes_en_consultas)\n",
    "]\n",
    "\n",
    "lista_pacientes_con_proced_y_consultas = pacientes_con_proced_y_consultas[\"id_paciente\"].unique()\n",
    "\n",
    "print(f\"> Pacientes en Consultas: {len(pacientes_en_consultas)}\")\n",
    "print(f\"> Pacientes en Procedimientos: {len(pacientes_en_procedimientos)}\")\n",
    "print(f\"> Pacientes con Procedimientos y Consultas: {len(lista_pacientes_con_proced_y_consultas)}\")"
   ]
  },
  {
   "cell_type": "markdown",
   "metadata": {},
   "source": [
    "Por lo tanto, existen **2165** (14737 - 12572) pacientes que tuvieron un procedimiento pero ninguna\n",
    "consulta en el Instituto Nacional del Tórax. Tales pacientes deben ser filtrados, ya que nunca\n",
    "se les podrá asignar un diagnóstico."
   ]
  },
  {
   "cell_type": "code",
   "execution_count": null,
   "metadata": {},
   "outputs": [],
   "source": [
    "pacientes_con_proced_y_sin_consultas = df_procedimientos[\n",
    "    ~df_procedimientos[\"id_paciente\"].isin(pacientes_en_consultas)\n",
    "]"
   ]
  },
  {
   "cell_type": "markdown",
   "metadata": {},
   "source": [
    "### 3.2 Obtención de diagnóstico para cada procedimiento realizado por un paciente\n",
    "\n",
    "Una vez se han dejado solamente los pacientes a los que se les puede asignar un diagnóstico,\n",
    "se debe proceder a asignar un diagnóstico. Para lo anterior, se deben obtener todas las sesiones\n",
    "únicas de procedimientos para un paciente."
   ]
  },
  {
   "cell_type": "code",
   "execution_count": null,
   "metadata": {},
   "outputs": [],
   "source": [
    "consultas_pacientes_con_proced = df_diagnosticos[\n",
    "    df_diagnosticos[\"id_paciente\"].isin(lista_pacientes_con_proced_y_consultas)\n",
    "]"
   ]
  },
  {
   "cell_type": "code",
   "execution_count": null,
   "metadata": {},
   "outputs": [],
   "source": [
    "proced_con_diagnosticos = build_features.asignar_diagnosticos_a_todos_los_procedimientos(\n",
    "    pacientes_con_proced_y_consultas, consultas_pacientes_con_proced\n",
    ")"
   ]
  },
  {
   "cell_type": "markdown",
   "metadata": {},
   "source": [
    "### 3.3 Obtención de procedimientos por paciente\n",
    "\n",
    "Una vez obtenido el diagnóstico para cada uno de los procedimientos, es posible responder a las\n",
    "siguiente preguntas planteada previamente:\n",
    "\n",
    "¿Cómo ha sido la canasta de procedimientos que han tenido los pacientes según su diagnóstico?\n"
   ]
  },
  {
   "cell_type": "code",
   "execution_count": null,
   "metadata": {},
   "outputs": [],
   "source": [
    "cantidad_proceds_por_pacientes = build_features.obtener_cartera_de_procedimientos_por_diagnostico(\n",
    "    proced_con_diagnosticos\n",
    ")"
   ]
  },
  {
   "cell_type": "code",
   "execution_count": null,
   "metadata": {},
   "outputs": [],
   "source": [
    "cantidad_proceds_por_pacientes.query(\"codigo_diagnostico == '17'\")"
   ]
  },
  {
   "cell_type": "markdown",
   "metadata": {},
   "source": [
    "Ahora, se obtuvo la cartera de procedimientos para pacientes que tuvieron algún procedimiento. Sin\n",
    "embargo, es importante saber cuántos pacientes en total tuvieron consultas en el periodo analizado\n",
    "(2020 y 2022)."
   ]
  },
  {
   "cell_type": "code",
   "execution_count": null,
   "metadata": {},
   "outputs": [],
   "source": [
    "pacientes_unicos_consultas_procedimientos = (\n",
    "    df_diagnosticos_acotado.groupby([\"year\", \"codigo_diagnostico\"])[\"id_paciente\"]\n",
    "    .nunique()\n",
    "    .reset_index(name=\"cantidad_pacientes_distintos_total\")\n",
    ")\n",
    "\n",
    "cantidad_proceds_por_pacientes = cantidad_proceds_por_pacientes.merge(\n",
    "    pacientes_unicos_consultas_procedimientos, how=\"left\", on=[\"year\", \"codigo_diagnostico\"]\n",
    ")\n",
    "\n",
    "cantidad_proceds_por_pacientes[\"cantidad_proced_por_pacientes_total\"] = (\n",
    "    cantidad_proceds_por_pacientes[\"cantidad_procedimientos\"]\n",
    "    / cantidad_proceds_por_pacientes[\"cantidad_pacientes_distintos_total\"]\n",
    ")\n",
    "\n",
    "cantidad_proceds_por_pacientes = cantidad_proceds_por_pacientes.merge(\n",
    "    cie, how=\"left\", left_on=\"codigo_diagnostico\", right_on=\"Código\"\n",
    ")"
   ]
  },
  {
   "cell_type": "code",
   "execution_count": null,
   "metadata": {},
   "outputs": [],
   "source": [
    "display(cantidad_proceds_por_pacientes)"
   ]
  },
  {
   "cell_type": "code",
   "execution_count": null,
   "metadata": {},
   "outputs": [],
   "source": [
    "DIAGNOSTICOS_MAS_RELEVANTES = [\n",
    "    \"C33X\",\n",
    "    \"C340\",\n",
    "    \"C341\",\n",
    "    \"C342\",\n",
    "    \"C343\",\n",
    "    \"C381\",\n",
    "    \"C384\",\n",
    "    \"C450\",\n",
    "    \"C780\",\n",
    "    \"C782\",\n",
    "    \"D143\",\n",
    "    \"D381\",\n",
    "    \"E848\",\n",
    "    \"I051\",\n",
    "    \"I080\",\n",
    "    \"I081\",\n",
    "    \"I340\",\n",
    "    \"I350\",\n",
    "    \"I351\",\n",
    "    \"I352\",\n",
    "    \"I420\",\n",
    "    \"I456\",\n",
    "    \"I472\",\n",
    "    \"I495\",\n",
    "    \"I710\",\n",
    "    \"I712\",\n",
    "    \"J398\",\n",
    "    \"J47X\",\n",
    "    \"J679\",\n",
    "    \"J841\",\n",
    "    \"J848\",\n",
    "    \"J849\",\n",
    "    \"J860\",\n",
    "    \"J869\",\n",
    "    \"J90X\",\n",
    "    \"J931\",\n",
    "    \"J955\",\n",
    "    \"J980\",\n",
    "    \"M348\",\n",
    "    \"Q211\",\n",
    "    \"Q231\",\n",
    "    \"Q676\",\n",
    "    \"T820\",\n",
    "    \"T821\",\n",
    "    \"Z450\",\n",
    "]\n",
    "\n",
    "canasta_proceds_diags_mas_relevantes = cantidad_proceds_por_pacientes[\n",
    "    cantidad_proceds_por_pacientes[\"codigo_diagnostico\"].isin(DIAGNOSTICOS_MAS_RELEVANTES)\n",
    "]"
   ]
  },
  {
   "cell_type": "code",
   "execution_count": null,
   "metadata": {},
   "outputs": [],
   "source": [
    "with pd.ExcelWriter(\"../data/interim/canasta_de_procedimientos_ambulatorios.xlsx\") as file:\n",
    "    cantidad_proceds_por_pacientes.to_excel(file, sheet_name=\"canasta_global\", index=False)\n",
    "    canasta_proceds_diags_mas_relevantes.to_excel(\n",
    "        file, sheet_name=\"canasta_diags_mas_relevantes\", index=False\n",
    "    )"
   ]
  },
  {
   "cell_type": "markdown",
   "metadata": {},
   "source": [
    "Los resultados indican la cantidad de procedimientos que se han realizado por un diagnóstico.\n",
    "A modo de ejemplo, se discutirán los resultados para el diagnóstico \"17\":\n",
    "\n",
    "- En primer lugar, se observa que se han realizado 6 procedimientos en total. Al ver el detalle,\n",
    "se puede ver que 5 de esos procedimientos corresponden a una Tomografia Computarizada de Torax\n",
    "y 1 a un Ecocardiograma bidimensional doppler color.\n",
    "\n",
    "- Para el diagnóstico, existen 4 pacientes distintos atendidos en todo el periodo.\n",
    "\n",
    "- Por lo tanto, para el diagnóstico \"17\" los pacientes se realizan en promedio 1.5 procedimientos.\n",
    "\n",
    "- Si se observa la Tomografía Computarizada de Tórax, se observa que este tiene una proporcion de\n",
    "1.25. **Esto indica que el 125% de los pacientes que son diagnosticados con \"17\" se deben realizar\n",
    "una TAC de Tórax**. Por otro lado, el Ecocardiograma Bidimensional Doppler tiene una proporación\n",
    "de 0.25. Lo anterior indica que sólo el 25% de los pacientes que son diagnosticados con \"17\"\n",
    "se deben realizar un Ecocardiograma Bidimensional Doppler."
   ]
  },
  {
   "cell_type": "code",
   "execution_count": null,
   "metadata": {},
   "outputs": [],
   "source": [
    "procedimientos_de_diags_mas_relevantes = cantidad_proceds_por_pacientes[\n",
    "    cantidad_proceds_por_pacientes[\"codigo_diagnostico\"].isin(diags_mas_frecuentes_por_anio)\n",
    "]\n",
    "\n",
    "display(procedimientos_de_diags_mas_relevantes)"
   ]
  },
  {
   "cell_type": "markdown",
   "metadata": {},
   "source": [
    "### 3.4 Cantidad de procedimientos realizados en el mismo día de una consulta\n",
    "\n",
    "En este apartado se quiere responder a la siguiente pregunta:\n",
    "\n",
    "- ¿Cuántas procedimientos fueron realizadas el mismo día de la consulta ambulatoria?\n",
    "- De los procedimientos realizados después de una consulta ambulatoria, ¿Cuánto es el tiempo de\n",
    "espera promedio? ¿Se puede saber por diagnóstico?\n",
    "\n",
    "Para responder tales preguntas se utilizará la base de diagnósticos y procedimientos acotados.\n",
    "Esto, ya que deben estar en un mismo periodo para hacer una comparación."
   ]
  },
  {
   "cell_type": "code",
   "execution_count": null,
   "metadata": {},
   "outputs": [],
   "source": [
    "proced_en_dia_de_consulta = build_features.obtener_procedimientos_en_dia_de_consulta(\n",
    "    df_procedimientos, df_diagnosticos_acotado\n",
    ")"
   ]
  },
  {
   "cell_type": "code",
   "execution_count": null,
   "metadata": {},
   "outputs": [],
   "source": [
    "cantidad_proced_en_consulta = proced_en_dia_de_consulta.shape[0]"
   ]
  },
  {
   "cell_type": "code",
   "execution_count": null,
   "metadata": {},
   "outputs": [],
   "source": [
    "print(f\"> Procedimientos realizados en el mismo dia de la consulta: {cantidad_proced_en_consulta}\")\n",
    "print(f\"> Procedimientos totales: {df_procedimientos.shape[0]}\")"
   ]
  },
  {
   "cell_type": "markdown",
   "metadata": {},
   "source": [
    "## 5. Obtención de procedimientos más frecuentes por unidad\n",
    "\n",
    "La unidad de Hemodinamia es de alto interés para el Instituto Nacional del Tórax. Debido a lo anterior,\n",
    "es necesario identificar cuales son los procedimientos realizados en esta especialidad.\n",
    "\n",
    "Además, se quiere ver que exámenes son más frecuentes por cada una de las unidades del INT."
   ]
  },
  {
   "cell_type": "code",
   "execution_count": null,
   "metadata": {},
   "outputs": [],
   "source": [
    "conteo_hemodinamia = df_procedimientos.query(\n",
    "    \"unidad_que_la_realiza == 'HEMODINAMÍA'\"\n",
    ").glosa.value_counts()\n",
    "\n",
    "display(conteo_hemodinamia)"
   ]
  },
  {
   "cell_type": "markdown",
   "metadata": {},
   "source": [
    "En el resultado anterior se muestran todos los procedimientos de Hemodinamia realizado en el área\n",
    "ambulatoria del Instituto Nacional del Tórax entre 2020 y 2022."
   ]
  },
  {
   "cell_type": "code",
   "execution_count": null,
   "metadata": {},
   "outputs": [],
   "source": [
    "procedimientos_mas_frecuentes = df_procedimientos.groupby([\"unidad_que_la_realiza\"])[\n",
    "    \"glosa\"\n",
    "].value_counts().reset_index(name=\"cantidad_procedimientos\")"
   ]
  },
  {
   "cell_type": "code",
   "execution_count": null,
   "metadata": {},
   "outputs": [],
   "source": [
    "display(procedimientos_mas_frecuentes)"
   ]
  },
  {
   "cell_type": "code",
   "execution_count": null,
   "metadata": {},
   "outputs": [],
   "source": [
    "por_unidad = [\n",
    "    procedimientos_mas_frecuentes.query(\"unidad_que_la_realiza == @unidad\")\n",
    "    .drop(columns=\"unidad_que_la_realiza\")\n",
    "    .rename(\n",
    "        columns={\n",
    "            \"glosa\": \"Nombre de Procedimiento\",\n",
    "            \"cantidad_procedimientos\": \"Cantidad de Procedimientos\",\n",
    "        }\n",
    "    )\n",
    "    for unidad in procedimientos_mas_frecuentes[\"unidad_que_la_realiza\"].unique()\n",
    "]"
   ]
  },
  {
   "cell_type": "code",
   "execution_count": null,
   "metadata": {},
   "outputs": [],
   "source": [
    "visualize.add_dataframes_to_powerpoint(\n",
    "    por_unidad,\n",
    "    \"../reports/presentacion.pptx\",\n",
    "    font_size=9,\n",
    "    cell_width=12,\n",
    "    cell_height=0.5,\n",
    "    font_family=\"Open Sans\",\n",
    "    max_cell_characters=100,\n",
    ")"
   ]
  },
  {
   "cell_type": "markdown",
   "metadata": {},
   "source": [
    "Los resultados indican los procedimientos más frecuentes por cada subunidad del INT. La tabla\n",
    "se encuentra resumida.\n",
    "\n",
    "A modo de ejemplo, Anatomía Patología realiza Estudios Histopatologicas con Técnicas de Inmunohistoquímica\n",
    "como procedimiento más frecuente."
   ]
  },
  {
   "cell_type": "code",
   "execution_count": null,
   "metadata": {},
   "outputs": [],
   "source": [
    "procedimientos_mas_frecuentes.to_excel(\n",
    "    \"../data/interim/procedimientos_mas_frecuentes.xlsx\", index=False\n",
    ")"
   ]
  },
  {
   "cell_type": "markdown",
   "metadata": {},
   "source": [
    "## 5.1 Obtención de diagnósticos con la mayor cantidad de procedimientos de Broncoscopía\n",
    "\n",
    "En este apartado se quiere responder la siguiente pregunta:\n",
    "\n",
    "- ¿Cuáles son los diagnósticos más frecuentes que se realizan procedimientos de la unidad de\n",
    "broncoscopía en el INT?"
   ]
  },
  {
   "cell_type": "code",
   "execution_count": null,
   "metadata": {},
   "outputs": [],
   "source": [
    "PROCEDIMIENTOS_BRONCO = procedimientos_mas_frecuentes.query(\n",
    "    \"unidad_que_la_realiza == 'BRONCOSCOPÍA'\"\n",
    ").glosa.unique()"
   ]
  },
  {
   "cell_type": "code",
   "execution_count": null,
   "metadata": {},
   "outputs": [],
   "source": [
    "canasta_diags_con_bronco = cantidad_proceds_por_pacientes[\n",
    "    cantidad_proceds_por_pacientes[\"glosa\"].isin(PROCEDIMIENTOS_BRONCO)\n",
    "]\n",
    "\n",
    "canasta_diags_con_bronco[\"glosa\"] = canasta_diags_con_bronco[\"glosa\"].str.strip()\n",
    "canasta_diags_con_bronco = canasta_diags_con_bronco.sort_values(\n",
    "    [\"glosa\", \"cantidad_proced_por_pacientes\", \"cantidad_procedimientos\"],\n",
    "    ascending=[True, False, False],\n",
    ")"
   ]
  },
  {
   "cell_type": "code",
   "execution_count": null,
   "metadata": {},
   "outputs": [],
   "source": [
    "canasta_diags_con_bronco.head(10)"
   ]
  },
  {
   "cell_type": "code",
   "execution_count": null,
   "metadata": {},
   "outputs": [],
   "source": [
    "canasta_diags_con_bronco.to_excel(\n",
    "    \"../data/interim/diags_con_procedimientos_de_bronco.xlsx\", index=False\n",
    ")"
   ]
  }
 ],
 "metadata": {
  "language_info": {
   "name": "python"
  }
 },
 "nbformat": 4,
 "nbformat_minor": 2
}
