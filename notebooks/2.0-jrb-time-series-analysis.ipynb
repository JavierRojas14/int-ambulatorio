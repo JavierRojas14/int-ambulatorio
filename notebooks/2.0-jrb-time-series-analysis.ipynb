{
 "cells": [
  {
   "cell_type": "code",
   "execution_count": 1,
   "metadata": {},
   "outputs": [],
   "source": [
    "import sys\n",
    "import os\n",
    "\n",
    "project_root = os.path.abspath('..')\n",
    "if project_root not in sys.path:\n",
    "    sys.path.append(project_root)\n",
    "\n",
    "%load_ext autoreload\n",
    "%autoreload 2"
   ]
  },
  {
   "cell_type": "code",
   "execution_count": 2,
   "metadata": {},
   "outputs": [],
   "source": [
    "import pandas as pd\n",
    "import numpy as np\n",
    "import polars as pl\n",
    "\n",
    "import matplotlib.pyplot as plt\n",
    "import seaborn as sns\n",
    "\n",
    "import warnings\n",
    "\n",
    "from src.features import build_features\n",
    "\n",
    "warnings.filterwarnings(\"ignore\")\n",
    "sns.set_style()\n",
    "plt.rcParams[\"figure.figsize\"] = (12, 6)\n"
   ]
  },
  {
   "cell_type": "code",
   "execution_count": 3,
   "metadata": {},
   "outputs": [],
   "source": [
    "df_procesada = pd.read_csv(\"../data/interim/datos_limpios.csv\", encoding=\"latin-1\", sep=\";\").drop(\n",
    "    columns=[\"Nombre Paciente\", \"Apellido Paterno Paciente\", \"Apellido Materno Paciente\"]\n",
    ")\n",
    "\n",
    "df_procesada = build_features.formatear_fechas_ambulatorio(df_procesada)\n",
    "df_procesada = build_features.agregar_rango_etario(df_procesada)\n"
   ]
  },
  {
   "attachments": {},
   "cell_type": "markdown",
   "metadata": {},
   "source": [
    "# Analisis a lo largo del tiempo\n",
    "\n",
    "En este analisis se quieren obtener los siguientes insights:\n",
    "\n",
    "- Frecuencia de diagnosticos por anio\n",
    "- Rango etario por anio\n",
    "- Procedencias por anio\n",
    "- Sexo por anio"
   ]
  },
  {
   "cell_type": "code",
   "execution_count": 16,
   "metadata": {},
   "outputs": [],
   "source": [
    "desglose_sociodemografico = [\"Año\"]\n",
    "\n",
    "variables_a_analizar = [\"Código Diagnóstico\", \"sexo\", \"RANGO_ETARIO_PRIMERA_CONSULTA\"]\n"
   ]
  },
  {
   "cell_type": "code",
   "execution_count": 17,
   "metadata": {},
   "outputs": [],
   "source": [
    "resultados_sociodemo = build_features.obtener_dfs_para_desglose_sociodemografico(\n",
    "    df_procesada, desglose_sociodemografico, variables_a_analizar, \"Código Diagnóstico\"\n",
    ")"
   ]
  },
  {
   "cell_type": "code",
   "execution_count": 20,
   "metadata": {},
   "outputs": [],
   "source": [
    "with pd.ExcelWriter(\"../data/processed/tableros_powerbi/distribucion_sociodemografica.xlsx\") as file:\n",
    "    for nombre_hoja, df_a_guardar in resultados_sociodemo.items():\n",
    "        df_a_guardar.to_excel(file, sheet_name=nombre_hoja, index=False)"
   ]
  }
 ],
 "metadata": {
  "kernelspec": {
   "display_name": "base",
   "language": "python",
   "name": "python3"
  },
  "language_info": {
   "codemirror_mode": {
    "name": "ipython",
    "version": 3
   },
   "file_extension": ".py",
   "mimetype": "text/x-python",
   "name": "python",
   "nbconvert_exporter": "python",
   "pygments_lexer": "ipython3",
   "version": "3.10.9"
  },
  "orig_nbformat": 4
 },
 "nbformat": 4,
 "nbformat_minor": 2
}
