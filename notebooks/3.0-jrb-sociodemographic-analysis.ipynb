{
 "cells": [
  {
   "cell_type": "code",
   "execution_count": 60,
   "metadata": {},
   "outputs": [
    {
     "name": "stdout",
     "output_type": "stream",
     "text": [
      "The autoreload extension is already loaded. To reload it, use:\n",
      "  %reload_ext autoreload\n"
     ]
    }
   ],
   "source": [
    "import sys\n",
    "import os\n",
    "\n",
    "project_root = os.path.abspath('..')\n",
    "if project_root not in sys.path:\n",
    "    sys.path.append(project_root)\n",
    "\n",
    "%load_ext autoreload\n",
    "%autoreload 2"
   ]
  },
  {
   "cell_type": "code",
   "execution_count": 61,
   "metadata": {},
   "outputs": [],
   "source": [
    "import pandas as pd\n",
    "import numpy as np\n",
    "\n",
    "import matplotlib.pyplot as plt\n",
    "import seaborn as sns\n",
    "\n",
    "sns.set_style()\n",
    "plt.rcParams[\"figure.figsize\"] = (12, 6)"
   ]
  },
  {
   "cell_type": "code",
   "execution_count": 62,
   "metadata": {},
   "outputs": [],
   "source": [
    "cie_10 = pd.read_excel(\"../data/external/CIE-10 - sin_puntos_y_X.xlsx\")\n",
    "regiones = (\n",
    "    pd.read_excel(\"../data/external/Esquema_Registro-2023.xlsx\", sheet_name=2, header=6)\n",
    "    .dropna(how=\"all\", axis=1)\n",
    "    .iloc[:-1, :-1]\n",
    ")\n",
    "regiones[\"Código Comuna\"] = regiones[\"Código Comuna\"].astype(int)\n",
    "regiones[\"Código Región\"] = regiones[\"Código Región\"].astype(int)"
   ]
  },
  {
   "cell_type": "markdown",
   "metadata": {},
   "source": [
    "## 1. Análisis Sociodemografico a lo largo del tiempo\n",
    "\n",
    "En este analisis se quieren responder las siguientes preguntas:\n",
    "\n",
    "1. ¿Cuántas consultas hay por año?\n",
    "2. ¿Cuáles son los diagnósticos más frecuentes por año?\n",
    "3. ¿Cuál es el **rango etario** de las personas que se atienden ambulatoriamente en el Hospital del\n",
    "Tórax? ¿Cómo cambia este perfil por cada uno de los diagnóstico?\n",
    "4. ¿Cuál es el **género/sexo** de las personas que se atienden ambulatoriamente en el Hospital del\n",
    "Tórax? ¿Cómo cambia este perfil por cada uno de los diagnósticos?\n",
    "5. ¿Cuál es la **previsión** de las personas que se atienden ambulatoriamente en el Hospital del\n",
    "Tórax? ¿Cómo cambia este perfil por cada uno de los diagnósticos?\n",
    "6. ¿Cuál es el **servicio de salud** de las personas que se atienden ambulatoriamente en el Hospital del\n",
    "Tórax? ¿Cómo cambia este perfil por cada uno de los diagnósticos?\n",
    "7. ¿Cuál es la **comuna** de las personas que se atienden ambulatoriamente en el Hospital del\n",
    "Tórax? ¿Cómo cambia este perfil por cada uno de los diagnósticos?\n",
    "\n",
    "Para responder estas preguntas se utilizará la base de datos de consultas ambulatorias\n",
    "del sistema HIS del Instituto Nacional del Tórax. La base de datos contiene consultas desde\n",
    "el año 2016 al 2022. Esta base contiene los datos para saber la frecuencia por diagnóstico,\n",
    "rango etario y género.\n",
    "\n",
    "A pesar de lo anterior, la base de datos de consultas carece de los últimos 3 datos a analizar\n",
    "(previsón, servicio de salud y comuna de residencia). Debido a esta razón, se utilizará la base\n",
    "de TrackCare para obtener tales datos.\n",
    "\n",
    "Además, se quiere responder cada una de estas preguntas para cada una de las especialidades de\n",
    "las consultas, diagnósticos y por tipo de consulta.\n"
   ]
  },
  {
   "cell_type": "code",
   "execution_count": 63,
   "metadata": {},
   "outputs": [],
   "source": [
    "df_track = pd.read_csv(\"../data/processed/datos_limpios_track.csv\", sep=\";\", encoding=\"latin-1\")\n",
    "df_his = pd.read_csv(\n",
    "    \"../data/processed/datos_limpios_diagnosticos.csv\", sep=\";\", encoding=\"latin-1\"\n",
    ")"
   ]
  },
  {
   "cell_type": "code",
   "execution_count": 64,
   "metadata": {},
   "outputs": [],
   "source": [
    "df_track[\"hora_completa_cita\"] = pd.to_datetime(df_track[\"hora_completa_cita\"])\n",
    "df_his[\"fecha_reserva\"] = pd.to_datetime(df_his[\"fecha_reserva\"])"
   ]
  },
  {
   "cell_type": "code",
   "execution_count": 65,
   "metadata": {},
   "outputs": [
    {
     "name": "stdout",
     "output_type": "stream",
     "text": [
      "La base de Track tiene citas agendadas desde 2016-01-04 08:00:00 a 2022-12-30 20:30:00\n",
      "La base de HIS tiene citas agendadas desde 2016-01-04 08:00:00 a 2022-12-30 14:50:00\n",
      "\n",
      "La base de Track tiene 758350 citas\n",
      "La base de HIS tiene 265441 citas\n"
     ]
    }
   ],
   "source": [
    "print(\n",
    "    f\"La base de Track tiene citas agendadas desde {df_track['hora_completa_cita'].min()} \"\n",
    "    f\"a {df_track['hora_completa_cita'].max()}\"\n",
    ")\n",
    "\n",
    "print(\n",
    "    f\"La base de HIS tiene citas agendadas desde {df_his['fecha_reserva'].min()} a \"\n",
    "    f\"{df_his['fecha_reserva'].max()}\"\n",
    ")\n",
    "print()\n",
    "print(f\"La base de Track tiene {df_track.shape[0]} citas\")\n",
    "print(f\"La base de HIS tiene {df_his.shape[0]} citas\")"
   ]
  },
  {
   "cell_type": "code",
   "execution_count": 66,
   "metadata": {},
   "outputs": [],
   "source": [
    "datos_pacientes_unicos_por_sesion = df_track.groupby([\"id_paciente\", \"hora_completa_cita\"]).head(1)"
   ]
  },
  {
   "cell_type": "code",
   "execution_count": 67,
   "metadata": {},
   "outputs": [],
   "source": [
    "df_his_y_track = pd.merge(\n",
    "    df_his,\n",
    "    datos_pacientes_unicos_por_sesion,\n",
    "    how=\"left\",\n",
    "    left_on=[\"id_paciente\", \"fecha_reserva\"],\n",
    "    right_on=[\"id_paciente\", \"hora_completa_cita\"],\n",
    ")\n",
    "\n",
    "sin_datos_en_track = df_his_y_track[df_his_y_track.estadocita.isna()]"
   ]
  },
  {
   "cell_type": "code",
   "execution_count": 68,
   "metadata": {},
   "outputs": [
    {
     "name": "stdout",
     "output_type": "stream",
     "text": [
      "Luego de unir la base de HIS con Track, la primera ha quedado con 265441 consultas (de 265441). Hay 189 consultas de HIS sin información en Track\n"
     ]
    }
   ],
   "source": [
    "print(\n",
    "    f\"Luego de unir la base de HIS con Track, la primera ha quedado con \"\n",
    "    f\"{df_his_y_track.shape[0]} consultas (de {df_his.shape[0]}). \"\n",
    "    f\"Hay {sin_datos_en_track.shape[0]} consultas de HIS sin información en Track\"\n",
    ")"
   ]
  },
  {
   "cell_type": "code",
   "execution_count": 69,
   "metadata": {},
   "outputs": [],
   "source": [
    "for paciente in sin_datos_en_track.id_paciente.unique():\n",
    "    if paciente in df_track[\"id_paciente\"]:\n",
    "        print(f\"{paciente} si esta\")"
   ]
  },
  {
   "cell_type": "markdown",
   "metadata": {},
   "source": [
    "Los resultados anteriores indican que ninguno de los pacientes faltantes se encuentra en la base\n",
    "de Track (Y no ocurre debido a que los pacientes existen en la base, pero tienen una fecha de atencion distinta a la de HIS). \n",
    "Debido a lo anterior, estos pacientes carecen de datos sociodemográficos.\n",
    "\n",
    "Una vez realizado la unión de las bases de datos es posible realizar el conteo anidado por\n",
    "las variables sociodemográficas."
   ]
  },
  {
   "cell_type": "code",
   "execution_count": 79,
   "metadata": {},
   "outputs": [],
   "source": [
    "VARIABLES_SOCIODEMOGRAFICAS_INTERES = [\n",
    "    \"ano\",\n",
    "    \"sexo_x\",\n",
    "    \"comuna\",\n",
    "    \"provincia\",\n",
    "    \"region\",\n",
    "    \"plan\",\n",
    "    \"prevision\",\n",
    "    \"tipoatencion\",\n",
    "    \"rango_etario\",\n",
    "]\n",
    "\n",
    "VARIABLE_A_CONTAR = [\"nombre_diagnostico\", \"codigo_diagnostico\"]"
   ]
  },
  {
   "cell_type": "code",
   "execution_count": 87,
   "metadata": {},
   "outputs": [],
   "source": [
    "resultado_sociodemografico = (\n",
    "    df_his_y_track.groupby(VARIABLES_SOCIODEMOGRAFICAS_INTERES)[VARIABLE_A_CONTAR]\n",
    "    .value_counts()\n",
    "    .reset_index(name=\"cantidad_de_consultas\")\n",
    ")\n",
    "\n",
    "resultado_sociodemografico[\"comuna\"] = resultado_sociodemografico[\"comuna\"].str.upper()\n",
    "resultado_sociodemografico = pd.merge(\n",
    "    resultado_sociodemografico, regiones, how=\"left\", left_on=\"comuna\", right_on=\"Nombre Comuna\"\n",
    ").merge(cie_10, how=\"left\", left_on=\"codigo_diagnostico\", right_on=\"Código\")\n",
    "\n",
    "resultado_sociodemografico = resultado_sociodemografico.rename(\n",
    "    columns={\"Código Región\": \"codregion\", \"Código Comuna\": \"cod_comuna\"}\n",
    ")\n",
    "\n",
    "resultado_sociodemografico[\"codregion\"] = resultado_sociodemografico[\"codregion\"].astype(\"Int32\")\n",
    "resultado_sociodemografico[\"cod_comuna\"] = resultado_sociodemografico[\"cod_comuna\"].astype(\"Int32\")"
   ]
  },
  {
   "cell_type": "code",
   "execution_count": 88,
   "metadata": {},
   "outputs": [],
   "source": [
    "resultado_sociodemografico.to_csv(\n",
    "    \"../data/interim/sociodemografico/desglose_sociodemografico.csv\",\n",
    "    index=False,\n",
    "    encoding=\"latin-1\",\n",
    "    sep=\";\",\n",
    ")"
   ]
  }
 ],
 "metadata": {
  "kernelspec": {
   "display_name": "int-ambulatorio",
   "language": "python",
   "name": "python3"
  },
  "language_info": {
   "codemirror_mode": {
    "name": "ipython",
    "version": 3
   },
   "file_extension": ".py",
   "mimetype": "text/x-python",
   "name": "python",
   "nbconvert_exporter": "python",
   "pygments_lexer": "ipython3",
   "version": "3.11.5"
  },
  "orig_nbformat": 4
 },
 "nbformat": 4,
 "nbformat_minor": 2
}
