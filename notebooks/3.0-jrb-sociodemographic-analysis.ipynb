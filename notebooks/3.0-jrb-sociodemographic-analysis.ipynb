{
 "cells": [
  {
   "cell_type": "code",
   "execution_count": 27,
   "metadata": {},
   "outputs": [
    {
     "name": "stdout",
     "output_type": "stream",
     "text": [
      "The autoreload extension is already loaded. To reload it, use:\n",
      "  %reload_ext autoreload\n"
     ]
    }
   ],
   "source": [
    "import sys\n",
    "import os\n",
    "\n",
    "project_root = os.path.abspath('..')\n",
    "if project_root not in sys.path:\n",
    "    sys.path.append(project_root)\n",
    "\n",
    "%load_ext autoreload\n",
    "%autoreload 2"
   ]
  },
  {
   "cell_type": "code",
   "execution_count": 2,
   "metadata": {},
   "outputs": [],
   "source": [
    "import pandas as pd\n",
    "import numpy as np\n",
    "\n",
    "import matplotlib.pyplot as plt\n",
    "import seaborn as sns\n",
    "\n",
    "sns.set_style()\n",
    "plt.rcParams[\"figure.figsize\"] = (12, 6)"
   ]
  },
  {
   "cell_type": "code",
   "execution_count": 26,
   "metadata": {},
   "outputs": [],
   "source": [
    "cie_10 = pd.read_excel(\"../data/external/CIE-10 - sin_puntos_y_X.xlsx\")\n",
    "regiones = (\n",
    "    pd.read_excel(\"../data/external/Esquema_Registro-2023.xlsx\", sheet_name=2, header=6)\n",
    "    .dropna(how=\"all\", axis=1)\n",
    "    .iloc[:-1, :-1]\n",
    ")\n",
    "regiones[\"Código Comuna\"] = regiones[\"Código Comuna\"].astype(int)\n",
    "regiones[\"Código Región\"] = regiones[\"Código Región\"].astype(int)"
   ]
  },
  {
   "cell_type": "markdown",
   "metadata": {},
   "source": [
    "# 1. Análisis Sociodemográfico de Pacientes de Consultas\n",
    "\n",
    "En este análisis se quiere analizar el perfil sociodemográfico de los pacientes que vienen a\n",
    "realizar una consulta ambulatoria al INT. Se quieren resolver las siguientes preguntas:\n",
    "\n",
    "- ¿Cuál es el rango etario de los pacientes atendidos?\n",
    "- ¿Cuál es el sexo de los pacientes atendidos?\n",
    "- ¿Cuál es la previsión de los pacientes atendidos?\n",
    "- ¿Cuál es la región/comuna de los pacientes atendidos?\n",
    "- ¿Cuál es el servicio de salud de los pacientes atendidos?\n",
    "\n",
    "Además, se quiere responder cada unad e estas preguntas para cada una de las especialidades de\n",
    "las consultas, diagnósticos y por tipo de consulta.\n"
   ]
  },
  {
   "cell_type": "code",
   "execution_count": 4,
   "metadata": {},
   "outputs": [],
   "source": [
    "df_track = pd.read_csv(\"../data/processed/datos_limpios_track.csv\", sep=\";\", encoding=\"latin-1\")\n",
    "df_his = pd.read_csv(\n",
    "    \"../data/processed/datos_limpios_diagnosticos.csv\", sep=\";\", encoding=\"latin-1\"\n",
    ")"
   ]
  },
  {
   "cell_type": "code",
   "execution_count": 5,
   "metadata": {},
   "outputs": [],
   "source": [
    "df_track[\"hora_completa_cita\"] = pd.to_datetime(df_track[\"hora_completa_cita\"])\n",
    "df_his[\"fecha_reserva\"] = pd.to_datetime(df_his[\"fecha_reserva\"])"
   ]
  },
  {
   "cell_type": "code",
   "execution_count": 6,
   "metadata": {},
   "outputs": [
    {
     "name": "stdout",
     "output_type": "stream",
     "text": [
      "La base de Track tiene citas agendadas desde 2016-01-04 08:00:00 a 2022-12-30 20:30:00\n",
      "La base de HIS tiene citas agendadas desde 2016-01-04 08:00:00 a 2022-12-30 14:50:00\n",
      "\n",
      "La base de Track tiene 758350 citas\n",
      "La base de HIS tiene 265441 citas\n"
     ]
    }
   ],
   "source": [
    "print(\n",
    "    f\"La base de Track tiene citas agendadas desde {df_track['hora_completa_cita'].min()} \"\n",
    "    f\"a {df_track['hora_completa_cita'].max()}\"\n",
    ")\n",
    "\n",
    "print(\n",
    "    f\"La base de HIS tiene citas agendadas desde {df_his['fecha_reserva'].min()} a \"\n",
    "    f\"{df_his['fecha_reserva'].max()}\"\n",
    ")\n",
    "print()\n",
    "print(f\"La base de Track tiene {df_track.shape[0]} citas\")\n",
    "print(f\"La base de HIS tiene {df_his.shape[0]} citas\")"
   ]
  },
  {
   "cell_type": "code",
   "execution_count": 7,
   "metadata": {},
   "outputs": [],
   "source": [
    "datos_pacientes_unicos_por_sesion = df_track.groupby([\"id_paciente\", \"hora_completa_cita\"]).head(1)"
   ]
  },
  {
   "cell_type": "code",
   "execution_count": 8,
   "metadata": {},
   "outputs": [],
   "source": [
    "df_his_y_track = pd.merge(\n",
    "    df_his,\n",
    "    datos_pacientes_unicos_por_sesion,\n",
    "    how=\"left\",\n",
    "    left_on=[\"id_paciente\", \"fecha_reserva\"],\n",
    "    right_on=[\"id_paciente\", \"hora_completa_cita\"],\n",
    ")\n",
    "\n",
    "sin_datos_en_track = df_his_y_track[df_his_y_track.estadocita.isna()]"
   ]
  },
  {
   "cell_type": "code",
   "execution_count": 9,
   "metadata": {},
   "outputs": [
    {
     "name": "stdout",
     "output_type": "stream",
     "text": [
      "Luego de unir la base de HIS con Track, la primera ha quedado con 265441 consultas (de 265441). Hay 189 consultas de HIS sin información en Track\n"
     ]
    }
   ],
   "source": [
    "print(\n",
    "    f\"Luego de unir la base de HIS con Track, la primera ha quedado con \"\n",
    "    f\"{df_his_y_track.shape[0]} consultas (de {df_his.shape[0]}). \"\n",
    "    f\"Hay {sin_datos_en_track.shape[0]} consultas de HIS sin información en Track\"\n",
    ")"
   ]
  },
  {
   "cell_type": "code",
   "execution_count": 10,
   "metadata": {},
   "outputs": [],
   "source": [
    "for paciente in sin_datos_en_track.id_paciente.unique():\n",
    "    if paciente in df_track[\"id_paciente\"]:\n",
    "        print(f\"{paciente} si esta\")"
   ]
  },
  {
   "cell_type": "markdown",
   "metadata": {},
   "source": [
    "Los resultados anteriores indican que ninguno de los pacientes faltantes se encuentra en la base\n",
    "de Track (Y no ocurre debido a que los pacientes existen en la base, pero tienen una fecha de atencion distinta a la de HIS). \n",
    "Debido a lo anterior, estos pacientes carecen de datos sociodemográficos.\n",
    "\n",
    "Una vez realizado la unión de las bases de datos es posible realizar el conteo anidado por\n",
    "las variables sociodemográficas."
   ]
  },
  {
   "cell_type": "code",
   "execution_count": 11,
   "metadata": {},
   "outputs": [],
   "source": [
    "VARIABLES_SOCIODEMOGRAFICAS_INTERES = [\n",
    "    \"ano\",\n",
    "    \"sexo_x\",\n",
    "    \"comuna\",\n",
    "    \"provincia\",\n",
    "    \"region\",\n",
    "    \"plan\",\n",
    "    \"prevision\",\n",
    "    \"tipoatencion\",\n",
    "    \"rango_etario\",\n",
    "]\n",
    "\n",
    "VARIABLE_A_CONTAR = \"codigo_diagnostico\""
   ]
  },
  {
   "cell_type": "code",
   "execution_count": 12,
   "metadata": {},
   "outputs": [],
   "source": [
    "resultado_sociodemografico = (\n",
    "    df_his_y_track.groupby(VARIABLES_SOCIODEMOGRAFICAS_INTERES)[VARIABLE_A_CONTAR]\n",
    "    .value_counts()\n",
    "    .reset_index(name=\"cantidad_de_consultas\")\n",
    ")"
   ]
  },
  {
   "cell_type": "code",
   "execution_count": 13,
   "metadata": {},
   "outputs": [
    {
     "ename": "PermissionError",
     "evalue": "[Errno 13] Permission denied: '../data/interim/sociodemografico/desglose_sociodemografico.xlsx'",
     "output_type": "error",
     "traceback": [
      "\u001b[1;31m---------------------------------------------------------------------------\u001b[0m",
      "\u001b[1;31mPermissionError\u001b[0m                           Traceback (most recent call last)",
      "\u001b[1;32mc:\\Users\\ppizarro\\Desktop\\Javier_Rojas\\Javier\\trabajo\\SSMO\\EPH\\4.0-int-ambulatorio\\notebooks\\3.0-jrb-sociodemographic-analysis.ipynb Cell 15\u001b[0m line \u001b[0;36m1\n\u001b[1;32m----> <a href='vscode-notebook-cell:/c%3A/Users/ppizarro/Desktop/Javier_Rojas/Javier/trabajo/SSMO/EPH/4.0-int-ambulatorio/notebooks/3.0-jrb-sociodemographic-analysis.ipynb#X16sZmlsZQ%3D%3D?line=0'>1</a>\u001b[0m resultado_sociodemografico\u001b[39m.\u001b[39;49mto_excel(\n\u001b[0;32m      <a href='vscode-notebook-cell:/c%3A/Users/ppizarro/Desktop/Javier_Rojas/Javier/trabajo/SSMO/EPH/4.0-int-ambulatorio/notebooks/3.0-jrb-sociodemographic-analysis.ipynb#X16sZmlsZQ%3D%3D?line=1'>2</a>\u001b[0m     \u001b[39m\"\u001b[39;49m\u001b[39m../data/interim/sociodemografico/desglose_sociodemografico.xlsx\u001b[39;49m\u001b[39m\"\u001b[39;49m, index\u001b[39m=\u001b[39;49m\u001b[39mFalse\u001b[39;49;00m\n\u001b[0;32m      <a href='vscode-notebook-cell:/c%3A/Users/ppizarro/Desktop/Javier_Rojas/Javier/trabajo/SSMO/EPH/4.0-int-ambulatorio/notebooks/3.0-jrb-sociodemographic-analysis.ipynb#X16sZmlsZQ%3D%3D?line=2'>3</a>\u001b[0m )\n",
      "File \u001b[1;32mc:\\Users\\ppizarro\\AppData\\Local\\anaconda3\\envs\\int-ambulatorio\\Lib\\site-packages\\pandas\\core\\generic.py:2252\u001b[0m, in \u001b[0;36mNDFrame.to_excel\u001b[1;34m(self, excel_writer, sheet_name, na_rep, float_format, columns, header, index, index_label, startrow, startcol, engine, merge_cells, inf_rep, freeze_panes, storage_options)\u001b[0m\n\u001b[0;32m   2239\u001b[0m \u001b[39mfrom\u001b[39;00m \u001b[39mpandas\u001b[39;00m\u001b[39m.\u001b[39;00m\u001b[39mio\u001b[39;00m\u001b[39m.\u001b[39;00m\u001b[39mformats\u001b[39;00m\u001b[39m.\u001b[39;00m\u001b[39mexcel\u001b[39;00m \u001b[39mimport\u001b[39;00m ExcelFormatter\n\u001b[0;32m   2241\u001b[0m formatter \u001b[39m=\u001b[39m ExcelFormatter(\n\u001b[0;32m   2242\u001b[0m     df,\n\u001b[0;32m   2243\u001b[0m     na_rep\u001b[39m=\u001b[39mna_rep,\n\u001b[1;32m   (...)\u001b[0m\n\u001b[0;32m   2250\u001b[0m     inf_rep\u001b[39m=\u001b[39minf_rep,\n\u001b[0;32m   2251\u001b[0m )\n\u001b[1;32m-> 2252\u001b[0m formatter\u001b[39m.\u001b[39;49mwrite(\n\u001b[0;32m   2253\u001b[0m     excel_writer,\n\u001b[0;32m   2254\u001b[0m     sheet_name\u001b[39m=\u001b[39;49msheet_name,\n\u001b[0;32m   2255\u001b[0m     startrow\u001b[39m=\u001b[39;49mstartrow,\n\u001b[0;32m   2256\u001b[0m     startcol\u001b[39m=\u001b[39;49mstartcol,\n\u001b[0;32m   2257\u001b[0m     freeze_panes\u001b[39m=\u001b[39;49mfreeze_panes,\n\u001b[0;32m   2258\u001b[0m     engine\u001b[39m=\u001b[39;49mengine,\n\u001b[0;32m   2259\u001b[0m     storage_options\u001b[39m=\u001b[39;49mstorage_options,\n\u001b[0;32m   2260\u001b[0m )\n",
      "File \u001b[1;32mc:\\Users\\ppizarro\\AppData\\Local\\anaconda3\\envs\\int-ambulatorio\\Lib\\site-packages\\pandas\\io\\formats\\excel.py:934\u001b[0m, in \u001b[0;36mExcelFormatter.write\u001b[1;34m(self, writer, sheet_name, startrow, startcol, freeze_panes, engine, storage_options)\u001b[0m\n\u001b[0;32m    930\u001b[0m     need_save \u001b[39m=\u001b[39m \u001b[39mFalse\u001b[39;00m\n\u001b[0;32m    931\u001b[0m \u001b[39melse\u001b[39;00m:\n\u001b[0;32m    932\u001b[0m     \u001b[39m# error: Cannot instantiate abstract class 'ExcelWriter' with abstract\u001b[39;00m\n\u001b[0;32m    933\u001b[0m     \u001b[39m# attributes 'engine', 'save', 'supported_extensions' and 'write_cells'\u001b[39;00m\n\u001b[1;32m--> 934\u001b[0m     writer \u001b[39m=\u001b[39m ExcelWriter(  \u001b[39m# type: ignore[abstract]\u001b[39;49;00m\n\u001b[0;32m    935\u001b[0m         writer, engine\u001b[39m=\u001b[39;49mengine, storage_options\u001b[39m=\u001b[39;49mstorage_options\n\u001b[0;32m    936\u001b[0m     )\n\u001b[0;32m    937\u001b[0m     need_save \u001b[39m=\u001b[39m \u001b[39mTrue\u001b[39;00m\n\u001b[0;32m    939\u001b[0m \u001b[39mtry\u001b[39;00m:\n",
      "File \u001b[1;32mc:\\Users\\ppizarro\\AppData\\Local\\anaconda3\\envs\\int-ambulatorio\\Lib\\site-packages\\pandas\\io\\excel\\_xlsxwriter.py:199\u001b[0m, in \u001b[0;36mXlsxWriter.__init__\u001b[1;34m(self, path, engine, date_format, datetime_format, mode, storage_options, if_sheet_exists, engine_kwargs, **kwargs)\u001b[0m\n\u001b[0;32m    196\u001b[0m \u001b[39mif\u001b[39;00m mode \u001b[39m==\u001b[39m \u001b[39m\"\u001b[39m\u001b[39ma\u001b[39m\u001b[39m\"\u001b[39m:\n\u001b[0;32m    197\u001b[0m     \u001b[39mraise\u001b[39;00m \u001b[39mValueError\u001b[39;00m(\u001b[39m\"\u001b[39m\u001b[39mAppend mode is not supported with xlsxwriter!\u001b[39m\u001b[39m\"\u001b[39m)\n\u001b[1;32m--> 199\u001b[0m \u001b[39msuper\u001b[39;49m()\u001b[39m.\u001b[39;49m\u001b[39m__init__\u001b[39;49m(\n\u001b[0;32m    200\u001b[0m     path,\n\u001b[0;32m    201\u001b[0m     engine\u001b[39m=\u001b[39;49mengine,\n\u001b[0;32m    202\u001b[0m     date_format\u001b[39m=\u001b[39;49mdate_format,\n\u001b[0;32m    203\u001b[0m     datetime_format\u001b[39m=\u001b[39;49mdatetime_format,\n\u001b[0;32m    204\u001b[0m     mode\u001b[39m=\u001b[39;49mmode,\n\u001b[0;32m    205\u001b[0m     storage_options\u001b[39m=\u001b[39;49mstorage_options,\n\u001b[0;32m    206\u001b[0m     if_sheet_exists\u001b[39m=\u001b[39;49mif_sheet_exists,\n\u001b[0;32m    207\u001b[0m     engine_kwargs\u001b[39m=\u001b[39;49mengine_kwargs,\n\u001b[0;32m    208\u001b[0m )\n\u001b[0;32m    210\u001b[0m \u001b[39mself\u001b[39m\u001b[39m.\u001b[39m_book \u001b[39m=\u001b[39m Workbook(\u001b[39mself\u001b[39m\u001b[39m.\u001b[39m_handles\u001b[39m.\u001b[39mhandle, \u001b[39m*\u001b[39m\u001b[39m*\u001b[39mengine_kwargs)\n",
      "File \u001b[1;32mc:\\Users\\ppizarro\\AppData\\Local\\anaconda3\\envs\\int-ambulatorio\\Lib\\site-packages\\pandas\\io\\excel\\_base.py:1219\u001b[0m, in \u001b[0;36mExcelWriter.__init__\u001b[1;34m(self, path, engine, date_format, datetime_format, mode, storage_options, if_sheet_exists, engine_kwargs)\u001b[0m\n\u001b[0;32m   1215\u001b[0m \u001b[39mself\u001b[39m\u001b[39m.\u001b[39m_handles \u001b[39m=\u001b[39m IOHandles(\n\u001b[0;32m   1216\u001b[0m     cast(IO[\u001b[39mbytes\u001b[39m], path), compression\u001b[39m=\u001b[39m{\u001b[39m\"\u001b[39m\u001b[39mcompression\u001b[39m\u001b[39m\"\u001b[39m: \u001b[39mNone\u001b[39;00m}\n\u001b[0;32m   1217\u001b[0m )\n\u001b[0;32m   1218\u001b[0m \u001b[39mif\u001b[39;00m \u001b[39mnot\u001b[39;00m \u001b[39misinstance\u001b[39m(path, ExcelWriter):\n\u001b[1;32m-> 1219\u001b[0m     \u001b[39mself\u001b[39m\u001b[39m.\u001b[39m_handles \u001b[39m=\u001b[39m get_handle(\n\u001b[0;32m   1220\u001b[0m         path, mode, storage_options\u001b[39m=\u001b[39;49mstorage_options, is_text\u001b[39m=\u001b[39;49m\u001b[39mFalse\u001b[39;49;00m\n\u001b[0;32m   1221\u001b[0m     )\n\u001b[0;32m   1222\u001b[0m \u001b[39mself\u001b[39m\u001b[39m.\u001b[39m_cur_sheet \u001b[39m=\u001b[39m \u001b[39mNone\u001b[39;00m\n\u001b[0;32m   1224\u001b[0m \u001b[39mif\u001b[39;00m date_format \u001b[39mis\u001b[39;00m \u001b[39mNone\u001b[39;00m:\n",
      "File \u001b[1;32mc:\\Users\\ppizarro\\AppData\\Local\\anaconda3\\envs\\int-ambulatorio\\Lib\\site-packages\\pandas\\io\\common.py:868\u001b[0m, in \u001b[0;36mget_handle\u001b[1;34m(path_or_buf, mode, encoding, compression, memory_map, is_text, errors, storage_options)\u001b[0m\n\u001b[0;32m    859\u001b[0m         handle \u001b[39m=\u001b[39m \u001b[39mopen\u001b[39m(\n\u001b[0;32m    860\u001b[0m             handle,\n\u001b[0;32m    861\u001b[0m             ioargs\u001b[39m.\u001b[39mmode,\n\u001b[1;32m   (...)\u001b[0m\n\u001b[0;32m    864\u001b[0m             newline\u001b[39m=\u001b[39m\u001b[39m\"\u001b[39m\u001b[39m\"\u001b[39m,\n\u001b[0;32m    865\u001b[0m         )\n\u001b[0;32m    866\u001b[0m     \u001b[39melse\u001b[39;00m:\n\u001b[0;32m    867\u001b[0m         \u001b[39m# Binary mode\u001b[39;00m\n\u001b[1;32m--> 868\u001b[0m         handle \u001b[39m=\u001b[39m \u001b[39mopen\u001b[39;49m(handle, ioargs\u001b[39m.\u001b[39;49mmode)\n\u001b[0;32m    869\u001b[0m     handles\u001b[39m.\u001b[39mappend(handle)\n\u001b[0;32m    871\u001b[0m \u001b[39m# Convert BytesIO or file objects passed with an encoding\u001b[39;00m\n",
      "\u001b[1;31mPermissionError\u001b[0m: [Errno 13] Permission denied: '../data/interim/sociodemografico/desglose_sociodemografico.xlsx'"
     ]
    }
   ],
   "source": [
    "resultado_sociodemografico.to_excel(\n",
    "    \"../data/interim/sociodemografico/desglose_sociodemografico.xlsx\", index=False\n",
    ")"
   ]
  }
 ],
 "metadata": {
  "kernelspec": {
   "display_name": "int-ambulatorio",
   "language": "python",
   "name": "python3"
  },
  "language_info": {
   "codemirror_mode": {
    "name": "ipython",
    "version": 3
   },
   "file_extension": ".py",
   "mimetype": "text/x-python",
   "name": "python",
   "nbconvert_exporter": "python",
   "pygments_lexer": "ipython3",
   "version": "3.11.5"
  },
  "orig_nbformat": 4
 },
 "nbformat": 4,
 "nbformat_minor": 2
}
