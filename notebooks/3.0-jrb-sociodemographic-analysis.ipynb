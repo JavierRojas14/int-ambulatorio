{
 "cells": [
  {
   "cell_type": "code",
   "execution_count": 48,
   "metadata": {},
   "outputs": [
    {
     "name": "stdout",
     "output_type": "stream",
     "text": [
      "The autoreload extension is already loaded. To reload it, use:\n",
      "  %reload_ext autoreload\n"
     ]
    }
   ],
   "source": [
    "import sys\n",
    "import os\n",
    "\n",
    "project_root = os.path.abspath('..')\n",
    "if project_root not in sys.path:\n",
    "    sys.path.append(project_root)\n",
    "\n",
    "%load_ext autoreload\n",
    "%autoreload 2"
   ]
  },
  {
   "cell_type": "code",
   "execution_count": 49,
   "metadata": {},
   "outputs": [],
   "source": [
    "import pandas as pd\n",
    "import numpy as np\n",
    "\n",
    "import matplotlib.pyplot as plt\n",
    "import seaborn as sns\n",
    "\n",
    "sns.set_style()\n",
    "plt.rcParams['figure.figsize'] = (12, 6)"
   ]
  },
  {
   "cell_type": "markdown",
   "metadata": {},
   "source": [
    "# 1. Análisis Sociodemográfico de Pacientes de Consultas\n",
    "\n",
    "En este análisis se quiere analizar el perfil sociodemográfico de los pacientes que vienen a\n",
    "realizar una consulta ambulatoria al INT. Se quieren resolver las siguientes preguntas:\n",
    "\n",
    "- ¿Cuál es el rango etario de los pacientes atendidos?\n",
    "- ¿Cuál es el sexo de los pacientes atendidos?\n",
    "- ¿Cuál es la previsión de los pacientes atendidos?\n",
    "- ¿Cuál es la región/comuna de los pacientes atendidos?\n",
    "- ¿Cuál es el servicio de salud de los pacientes atendidos?\n",
    "\n",
    "Además, se quiere responder cada unad e estas preguntas para cada una de las especialidades de\n",
    "las consultas, diagnósticos y por tipo de consulta."
   ]
  },
  {
   "cell_type": "code",
   "execution_count": 50,
   "metadata": {},
   "outputs": [],
   "source": [
    "df_track = pd.read_csv(\"../data/processed/datos_limpios_track.csv\", sep=\";\", encoding=\"latin-1\")\n",
    "df_his = pd.read_csv(\n",
    "    \"../data/processed/datos_limpios_diagnosticos.csv\", sep=\";\", encoding=\"latin-1\"\n",
    ")"
   ]
  },
  {
   "cell_type": "code",
   "execution_count": 51,
   "metadata": {},
   "outputs": [],
   "source": [
    "df_track[\"hora_completa_cita\"] = pd.to_datetime(df_track[\"hora_completa_cita\"])\n",
    "df_his[\"fecha_reserva\"] = pd.to_datetime(df_his[\"fecha_reserva\"])"
   ]
  },
  {
   "cell_type": "code",
   "execution_count": 52,
   "metadata": {},
   "outputs": [
    {
     "name": "stdout",
     "output_type": "stream",
     "text": [
      "La base de Track tiene citas desde 2016-01-04 08:00:00 a 2022-12-30 20:30:00\n",
      "La base de HIS tiene citas desde 2016-01-04 08:00:00 a 2022-12-30 14:50:00\n",
      "\n",
      "La base de Track tiene 758350 citas\n",
      "La base de HIS tiene 265441 citas\n"
     ]
    }
   ],
   "source": [
    "print(\n",
    "    f\"La base de Track tiene citas desde {df_track['hora_completa_cita'].min()} \"\n",
    "    f\"a {df_track['hora_completa_cita'].max()}\"\n",
    ")\n",
    "\n",
    "print(\n",
    "    f\"La base de HIS tiene citas desde {df_his['fecha_reserva'].min()} a \"\n",
    "    f\"{df_his['fecha_reserva'].max()}\"\n",
    ")\n",
    "print()\n",
    "print(f\"La base de Track tiene {df_track.shape[0]} citas\")\n",
    "print(f\"La base de HIS tiene {df_his.shape[0]} citas\")\n"
   ]
  },
  {
   "cell_type": "code",
   "execution_count": 53,
   "metadata": {},
   "outputs": [],
   "source": [
    "datos_pacientes_unicos_por_sesion = df_track.groupby([\"id_paciente\", \"hora_completa_cita\"]).head(1)"
   ]
  },
  {
   "cell_type": "code",
   "execution_count": 54,
   "metadata": {},
   "outputs": [],
   "source": [
    "consultas_atendidas_con_datos_sociodemograficos = pd.merge(\n",
    "    df_his,\n",
    "    datos_pacientes_unicos_por_sesion,\n",
    "    how=\"left\",\n",
    "    left_on=[\"id_paciente\", \"fecha_reserva\"],\n",
    "    right_on=[\"id_paciente\", \"hora_completa_cita\"],\n",
    ")\n",
    "\n",
    "sin_datos_en_track = consultas_atendidas_con_datos_sociodemograficos[\n",
    "    consultas_atendidas_con_datos_sociodemograficos.estadocita.isna()\n",
    "]"
   ]
  },
  {
   "cell_type": "code",
   "execution_count": 56,
   "metadata": {},
   "outputs": [
    {
     "name": "stdout",
     "output_type": "stream",
     "text": [
      "Luego de unir la base de HIS con Track, la primera ha quedado con 265441 consultas. Hay 189 consultas de HIS sin información en Track\n"
     ]
    }
   ],
   "source": [
    "print(\n",
    "    f\"Luego de unir la base de HIS con Track, la primera ha quedado con \"\n",
    "    f\"{consultas_atendidas_con_datos_sociodemograficos.shape[0]} consultas. \"\n",
    "    f\"Hay {sin_datos_en_track.shape[0]} consultas de HIS sin información en Track\"\n",
    ")"
   ]
  }
 ],
 "metadata": {
  "kernelspec": {
   "display_name": "int-ambulatorio",
   "language": "python",
   "name": "python3"
  },
  "language_info": {
   "codemirror_mode": {
    "name": "ipython",
    "version": 3
   },
   "file_extension": ".py",
   "mimetype": "text/x-python",
   "name": "python",
   "nbconvert_exporter": "python",
   "pygments_lexer": "ipython3",
   "version": "3.11.5"
  },
  "orig_nbformat": 4
 },
 "nbformat": 4,
 "nbformat_minor": 2
}
